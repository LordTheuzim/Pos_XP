{
 "cells": [
  {
   "cell_type": "markdown",
   "metadata": {},
   "source": [
    "<h1>Desafio Prático 1 Módulo 1</h1>\n",
    "\n",
    "<p></p>"
   ]
  },
  {
   "cell_type": "markdown",
   "metadata": {},
   "source": [
    "<h2>Enunciado</h2>\n",
    "\n",
    "<p>Em um cenário dinâmico de recrutamento, um experiente gerente de talentos percebe a necessidade de aprimorar as estratégias de seleção de candidatos. Com o objetivo de explorar as nuances entre experiência profissional e salários em diversos setores, o gerente tomou a iniciativa de contratar um especialista em Big Data. Em vez de utilizar uma abordagem linear, agora focaremos em técnicas de agrupamento para aprimorar a eficácia do processo de recrutamento</p>\n",
    "<p>Em uma realidade onde a diversidade de perfis profissionais é a norma, nosso gerente de recrutamento enfrenta o desafio de compreender padrões complexos que vão além da linearidade. Ele busca entender não apenas a 2 correlação entre experiência e salário, mas também identificar grupos específicos de candidatos que compartilham características semelhantes.</p>\n",
    "Desta forma, em vez de uma abordagem de regressão linear, o arquiteto de Big Data será encarregado de criar um modelo de clusterização, usando o algoritmo K-Means. Este modelo segmentará candidatos em grupos distintos com base em suas experiências profissionais e salários associados.</p>\n",
    "<br>\n",
    "Categorias Propostas:\n",
    "<br>\n",
    "<ul>\n",
    "   <li>Iniciante: candidatos com baixo tempo em meses trabalhados. Salários iniciais e de entrada.</li>\n",
    "   <li>Intermediário: candidatos com um tempo moderado em meses trabalhados. Salários correspondentes à experiência intermediária.</li>\n",
    "   <li>Experiente: candidatos com extensa experiência em meses trabalhados. Salários mais elevados refletindo a experiência acumulada.</li>\n",
    "</ul>\n",
    "<br>\n",
    "Instruções para correção de dados ausentes:\n",
    "<br>\n",
    "<ul>\n",
    "   <li>Mediana para as variáveis numéricas.</li>\n",
    "   <li>Moda para as variáveis categóricas.</li>\n",
    "</ul>"
   ]
  },
  {
   "cell_type": "code",
   "execution_count": 1,
   "metadata": {},
   "outputs": [],
   "source": [
    "import pandas as pd\n",
    "import matplotlib.pyplot as plt"
   ]
  },
  {
   "cell_type": "markdown",
   "metadata": {},
   "source": [
    "<h3>1 - Importar base de dados para o relatório </h3>"
   ]
  },
  {
   "cell_type": "code",
   "execution_count": 2,
   "metadata": {},
   "outputs": [],
   "source": [
    "\n",
    "df_estados = pd.read_csv('./dados/estados_brasileiros.csv',sep=\";\")\n",
    "df_dadospessoais_cli = pd.read_excel('./dados/dados_pessoais.xlsx')\n",
    "df_salario_cli = pd.read_csv('./dados/Experience-Salary.csv')\n",
    "df_idade = pd.read_csv('./dados/idade_clientes.csv',sep=\";\")"
   ]
  },
  {
   "cell_type": "markdown",
   "metadata": {},
   "source": [
    "<h3>2 - Preparação dos Dados </h3>"
   ]
  },
  {
   "cell_type": "markdown",
   "metadata": {},
   "source": [
    "<h4>Tabela Idades</h4>"
   ]
  },
  {
   "cell_type": "code",
   "execution_count": 3,
   "metadata": {},
   "outputs": [
    {
     "data": {
      "text/html": [
       "<div>\n",
       "<style scoped>\n",
       "    .dataframe tbody tr th:only-of-type {\n",
       "        vertical-align: middle;\n",
       "    }\n",
       "\n",
       "    .dataframe tbody tr th {\n",
       "        vertical-align: top;\n",
       "    }\n",
       "\n",
       "    .dataframe thead th {\n",
       "        text-align: right;\n",
       "    }\n",
       "</style>\n",
       "<table border=\"1\" class=\"dataframe\">\n",
       "  <thead>\n",
       "    <tr style=\"text-align: right;\">\n",
       "      <th></th>\n",
       "      <th>id_cliente</th>\n",
       "      <th>idade</th>\n",
       "    </tr>\n",
       "  </thead>\n",
       "  <tbody>\n",
       "    <tr>\n",
       "      <th>0</th>\n",
       "      <td>1</td>\n",
       "      <td>17</td>\n",
       "    </tr>\n",
       "    <tr>\n",
       "      <th>1</th>\n",
       "      <td>2</td>\n",
       "      <td>28</td>\n",
       "    </tr>\n",
       "    <tr>\n",
       "      <th>2</th>\n",
       "      <td>3</td>\n",
       "      <td>62</td>\n",
       "    </tr>\n",
       "    <tr>\n",
       "      <th>3</th>\n",
       "      <td>4</td>\n",
       "      <td>55</td>\n",
       "    </tr>\n",
       "    <tr>\n",
       "      <th>4</th>\n",
       "      <td>5</td>\n",
       "      <td>44</td>\n",
       "    </tr>\n",
       "  </tbody>\n",
       "</table>\n",
       "</div>"
      ],
      "text/plain": [
       "   id_cliente  idade\n",
       "0           1     17\n",
       "1           2     28\n",
       "2           3     62\n",
       "3           4     55\n",
       "4           5     44"
      ]
     },
     "execution_count": 3,
     "metadata": {},
     "output_type": "execute_result"
    }
   ],
   "source": [
    "df_idade.head()"
   ]
  },
  {
   "cell_type": "markdown",
   "metadata": {},
   "source": [
    "<h4>Tabela dos Estados</h4>"
   ]
  },
  {
   "cell_type": "code",
   "execution_count": 4,
   "metadata": {},
   "outputs": [
    {
     "data": {
      "text/html": [
       "<div>\n",
       "<style scoped>\n",
       "    .dataframe tbody tr th:only-of-type {\n",
       "        vertical-align: middle;\n",
       "    }\n",
       "\n",
       "    .dataframe tbody tr th {\n",
       "        vertical-align: top;\n",
       "    }\n",
       "\n",
       "    .dataframe thead th {\n",
       "        text-align: right;\n",
       "    }\n",
       "</style>\n",
       "<table border=\"1\" class=\"dataframe\">\n",
       "  <thead>\n",
       "    <tr style=\"text-align: right;\">\n",
       "      <th></th>\n",
       "      <th>id_estado</th>\n",
       "      <th>estado</th>\n",
       "      <th>sigla_estado</th>\n",
       "      <th>pais</th>\n",
       "    </tr>\n",
       "  </thead>\n",
       "  <tbody>\n",
       "    <tr>\n",
       "      <th>0</th>\n",
       "      <td>1</td>\n",
       "      <td>Acre</td>\n",
       "      <td>ac</td>\n",
       "      <td>Brasil</td>\n",
       "    </tr>\n",
       "    <tr>\n",
       "      <th>1</th>\n",
       "      <td>2</td>\n",
       "      <td>Alagoas</td>\n",
       "      <td>al</td>\n",
       "      <td>Brasil</td>\n",
       "    </tr>\n",
       "    <tr>\n",
       "      <th>2</th>\n",
       "      <td>3</td>\n",
       "      <td>Amapá</td>\n",
       "      <td>ap</td>\n",
       "      <td>Brasil</td>\n",
       "    </tr>\n",
       "    <tr>\n",
       "      <th>3</th>\n",
       "      <td>4</td>\n",
       "      <td>Amazonas</td>\n",
       "      <td>am</td>\n",
       "      <td>Brasil</td>\n",
       "    </tr>\n",
       "    <tr>\n",
       "      <th>4</th>\n",
       "      <td>5</td>\n",
       "      <td>Bahia</td>\n",
       "      <td>ba</td>\n",
       "      <td>Brasil</td>\n",
       "    </tr>\n",
       "  </tbody>\n",
       "</table>\n",
       "</div>"
      ],
      "text/plain": [
       "   id_estado    estado sigla_estado    pais\n",
       "0          1      Acre           ac  Brasil\n",
       "1          2   Alagoas           al  Brasil\n",
       "2          3     Amapá           ap  Brasil\n",
       "3          4  Amazonas           am  Brasil\n",
       "4          5     Bahia           ba  Brasil"
      ]
     },
     "execution_count": 4,
     "metadata": {},
     "output_type": "execute_result"
    }
   ],
   "source": [
    "df_estados.head()"
   ]
  },
  {
   "cell_type": "code",
   "execution_count": 5,
   "metadata": {},
   "outputs": [],
   "source": [
    "df_estados['sigla_estado'] = df_estados['sigla_estado'].str.upper()"
   ]
  },
  {
   "cell_type": "code",
   "execution_count": 6,
   "metadata": {},
   "outputs": [
    {
     "name": "stdout",
     "output_type": "stream",
     "text": [
      "<class 'pandas.core.frame.DataFrame'>\n",
      "RangeIndex: 27 entries, 0 to 26\n",
      "Data columns (total 4 columns):\n",
      " #   Column        Non-Null Count  Dtype \n",
      "---  ------        --------------  ----- \n",
      " 0   id_estado     27 non-null     int64 \n",
      " 1   estado        27 non-null     object\n",
      " 2   sigla_estado  27 non-null     object\n",
      " 3   pais          25 non-null     object\n",
      "dtypes: int64(1), object(3)\n",
      "memory usage: 996.0+ bytes\n"
     ]
    }
   ],
   "source": [
    "df_estados.info()"
   ]
  },
  {
   "cell_type": "code",
   "execution_count": 7,
   "metadata": {},
   "outputs": [
    {
     "data": {
      "text/plain": [
       "id_estado       0\n",
       "estado          0\n",
       "sigla_estado    0\n",
       "pais            2\n",
       "dtype: int64"
      ]
     },
     "execution_count": 7,
     "metadata": {},
     "output_type": "execute_result"
    }
   ],
   "source": [
    "# Confirmação do observado\n",
    "df_estados.isnull().sum()"
   ]
  },
  {
   "cell_type": "markdown",
   "metadata": {},
   "source": [
    "<p>Vemos que a tabela possuí 27 linhas, porém na coluna do País existe apenas 25 valores. Para fazermos a confirmação visual podemos somar os valores nulos da tabela com a função isnull() concatenada com sum().</p>\n",
    "<p>Após a verificação fez-se necessário o tratamento. Então, como é uma variável categórica, devemos inserir o valor que mais se repete (moda).</p>"
   ]
  },
  {
   "cell_type": "code",
   "execution_count": 8,
   "metadata": {},
   "outputs": [
    {
     "data": {
      "text/plain": [
       "pais\n",
       "Brasil    25\n",
       "Name: count, dtype: int64"
      ]
     },
     "execution_count": 8,
     "metadata": {},
     "output_type": "execute_result"
    }
   ],
   "source": [
    "df_estados['pais'].value_counts()"
   ]
  },
  {
   "cell_type": "code",
   "execution_count": 9,
   "metadata": {},
   "outputs": [
    {
     "data": {
      "text/plain": [
       "id_estado       0\n",
       "estado          0\n",
       "sigla_estado    0\n",
       "pais            0\n",
       "dtype: int64"
      ]
     },
     "execution_count": 9,
     "metadata": {},
     "output_type": "execute_result"
    }
   ],
   "source": [
    "df_estados['pais'].fillna('Brasil',inplace=True)\n",
    "df_estados.isnull().sum()"
   ]
  },
  {
   "cell_type": "markdown",
   "metadata": {},
   "source": [
    "<h4>Tabela dos Dados Pessoais dos Clientes</h4>"
   ]
  },
  {
   "cell_type": "code",
   "execution_count": 10,
   "metadata": {},
   "outputs": [
    {
     "data": {
      "text/html": [
       "<div>\n",
       "<style scoped>\n",
       "    .dataframe tbody tr th:only-of-type {\n",
       "        vertical-align: middle;\n",
       "    }\n",
       "\n",
       "    .dataframe tbody tr th {\n",
       "        vertical-align: top;\n",
       "    }\n",
       "\n",
       "    .dataframe thead th {\n",
       "        text-align: right;\n",
       "    }\n",
       "</style>\n",
       "<table border=\"1\" class=\"dataframe\">\n",
       "  <thead>\n",
       "    <tr style=\"text-align: right;\">\n",
       "      <th></th>\n",
       "      <th>id_cliente</th>\n",
       "      <th>peso</th>\n",
       "      <th>colesterol</th>\n",
       "      <th>genero</th>\n",
       "      <th>id_estado</th>\n",
       "    </tr>\n",
       "  </thead>\n",
       "  <tbody>\n",
       "    <tr>\n",
       "      <th>0</th>\n",
       "      <td>1</td>\n",
       "      <td>102.0</td>\n",
       "      <td>111</td>\n",
       "      <td>Masculino</td>\n",
       "      <td>23</td>\n",
       "    </tr>\n",
       "    <tr>\n",
       "      <th>1</th>\n",
       "      <td>2</td>\n",
       "      <td>115.0</td>\n",
       "      <td>135</td>\n",
       "      <td>Masculino</td>\n",
       "      <td>7</td>\n",
       "    </tr>\n",
       "    <tr>\n",
       "      <th>2</th>\n",
       "      <td>3</td>\n",
       "      <td>115.0</td>\n",
       "      <td>136</td>\n",
       "      <td>Masculino</td>\n",
       "      <td>4</td>\n",
       "    </tr>\n",
       "    <tr>\n",
       "      <th>3</th>\n",
       "      <td>4</td>\n",
       "      <td>140.0</td>\n",
       "      <td>167</td>\n",
       "      <td>Feminino</td>\n",
       "      <td>24</td>\n",
       "    </tr>\n",
       "    <tr>\n",
       "      <th>4</th>\n",
       "      <td>5</td>\n",
       "      <td>130.0</td>\n",
       "      <td>158</td>\n",
       "      <td>Masculino</td>\n",
       "      <td>26</td>\n",
       "    </tr>\n",
       "  </tbody>\n",
       "</table>\n",
       "</div>"
      ],
      "text/plain": [
       "   id_cliente   peso  colesterol     genero  id_estado\n",
       "0           1  102.0         111  Masculino         23\n",
       "1           2  115.0         135  Masculino          7\n",
       "2           3  115.0         136  Masculino          4\n",
       "3           4  140.0         167   Feminino         24\n",
       "4           5  130.0         158  Masculino         26"
      ]
     },
     "execution_count": 10,
     "metadata": {},
     "output_type": "execute_result"
    }
   ],
   "source": [
    "df_dadospessoais_cli.head()"
   ]
  },
  {
   "cell_type": "code",
   "execution_count": 11,
   "metadata": {},
   "outputs": [
    {
     "data": {
      "text/html": [
       "<div>\n",
       "<style scoped>\n",
       "    .dataframe tbody tr th:only-of-type {\n",
       "        vertical-align: middle;\n",
       "    }\n",
       "\n",
       "    .dataframe tbody tr th {\n",
       "        vertical-align: top;\n",
       "    }\n",
       "\n",
       "    .dataframe thead th {\n",
       "        text-align: right;\n",
       "    }\n",
       "</style>\n",
       "<table border=\"1\" class=\"dataframe\">\n",
       "  <thead>\n",
       "    <tr style=\"text-align: right;\">\n",
       "      <th></th>\n",
       "      <th>id_cliente</th>\n",
       "      <th>peso</th>\n",
       "      <th>colesterol</th>\n",
       "      <th>id_estado</th>\n",
       "    </tr>\n",
       "  </thead>\n",
       "  <tbody>\n",
       "    <tr>\n",
       "      <th>count</th>\n",
       "      <td>547.00000</td>\n",
       "      <td>542.000000</td>\n",
       "      <td>547.000000</td>\n",
       "      <td>547.000000</td>\n",
       "    </tr>\n",
       "    <tr>\n",
       "      <th>mean</th>\n",
       "      <td>274.00000</td>\n",
       "      <td>143.440959</td>\n",
       "      <td>170.433272</td>\n",
       "      <td>13.833638</td>\n",
       "    </tr>\n",
       "    <tr>\n",
       "      <th>std</th>\n",
       "      <td>158.04957</td>\n",
       "      <td>30.836868</td>\n",
       "      <td>39.147189</td>\n",
       "      <td>7.593117</td>\n",
       "    </tr>\n",
       "    <tr>\n",
       "      <th>min</th>\n",
       "      <td>1.00000</td>\n",
       "      <td>95.000000</td>\n",
       "      <td>102.000000</td>\n",
       "      <td>1.000000</td>\n",
       "    </tr>\n",
       "    <tr>\n",
       "      <th>25%</th>\n",
       "      <td>137.50000</td>\n",
       "      <td>116.000000</td>\n",
       "      <td>136.000000</td>\n",
       "      <td>7.000000</td>\n",
       "    </tr>\n",
       "    <tr>\n",
       "      <th>50%</th>\n",
       "      <td>274.00000</td>\n",
       "      <td>140.000000</td>\n",
       "      <td>169.000000</td>\n",
       "      <td>13.000000</td>\n",
       "    </tr>\n",
       "    <tr>\n",
       "      <th>75%</th>\n",
       "      <td>410.50000</td>\n",
       "      <td>171.000000</td>\n",
       "      <td>208.000000</td>\n",
       "      <td>20.000000</td>\n",
       "    </tr>\n",
       "    <tr>\n",
       "      <th>max</th>\n",
       "      <td>547.00000</td>\n",
       "      <td>203.000000</td>\n",
       "      <td>235.000000</td>\n",
       "      <td>27.000000</td>\n",
       "    </tr>\n",
       "  </tbody>\n",
       "</table>\n",
       "</div>"
      ],
      "text/plain": [
       "       id_cliente        peso  colesterol   id_estado\n",
       "count   547.00000  542.000000  547.000000  547.000000\n",
       "mean    274.00000  143.440959  170.433272   13.833638\n",
       "std     158.04957   30.836868   39.147189    7.593117\n",
       "min       1.00000   95.000000  102.000000    1.000000\n",
       "25%     137.50000  116.000000  136.000000    7.000000\n",
       "50%     274.00000  140.000000  169.000000   13.000000\n",
       "75%     410.50000  171.000000  208.000000   20.000000\n",
       "max     547.00000  203.000000  235.000000   27.000000"
      ]
     },
     "execution_count": 11,
     "metadata": {},
     "output_type": "execute_result"
    }
   ],
   "source": [
    "df_dadospessoais_cli.describe()"
   ]
  },
  {
   "cell_type": "code",
   "execution_count": 12,
   "metadata": {},
   "outputs": [
    {
     "name": "stdout",
     "output_type": "stream",
     "text": [
      "<class 'pandas.core.frame.DataFrame'>\n",
      "RangeIndex: 547 entries, 0 to 546\n",
      "Data columns (total 5 columns):\n",
      " #   Column      Non-Null Count  Dtype  \n",
      "---  ------      --------------  -----  \n",
      " 0   id_cliente  547 non-null    int64  \n",
      " 1   peso        542 non-null    float64\n",
      " 2   colesterol  547 non-null    int64  \n",
      " 3   genero      547 non-null    object \n",
      " 4   id_estado   547 non-null    int64  \n",
      "dtypes: float64(1), int64(3), object(1)\n",
      "memory usage: 21.5+ KB\n"
     ]
    }
   ],
   "source": [
    "df_dadospessoais_cli.info()"
   ]
  },
  {
   "cell_type": "code",
   "execution_count": 13,
   "metadata": {},
   "outputs": [
    {
     "data": {
      "text/plain": [
       "id_cliente    0\n",
       "peso          5\n",
       "colesterol    0\n",
       "genero        0\n",
       "id_estado     0\n",
       "dtype: int64"
      ]
     },
     "execution_count": 13,
     "metadata": {},
     "output_type": "execute_result"
    }
   ],
   "source": [
    "df_dadospessoais_cli.isna().sum()"
   ]
  },
  {
   "cell_type": "markdown",
   "metadata": {},
   "source": [
    "Do mesmo modo da tabela dos estados devemos tratar os dados faltantes. Mas como é um valor flutuante, será inserido o valor da mediana nos dados ausentes."
   ]
  },
  {
   "cell_type": "code",
   "execution_count": 14,
   "metadata": {},
   "outputs": [],
   "source": [
    "median = df_dadospessoais_cli['peso'].median()\n",
    "df_dadospessoais_cli.fillna(round(median,2),inplace=True)"
   ]
  },
  {
   "cell_type": "code",
   "execution_count": 15,
   "metadata": {},
   "outputs": [
    {
     "data": {
      "text/plain": [
       "0      102.0\n",
       "1      115.0\n",
       "2      115.0\n",
       "3      140.0\n",
       "4      130.0\n",
       "       ...  \n",
       "542    172.0\n",
       "543    129.0\n",
       "544    107.0\n",
       "545    117.0\n",
       "546    148.0\n",
       "Name: peso, Length: 547, dtype: float64"
      ]
     },
     "execution_count": 15,
     "metadata": {},
     "output_type": "execute_result"
    }
   ],
   "source": [
    "df_dadospessoais_cli['peso']"
   ]
  },
  {
   "cell_type": "code",
   "execution_count": 16,
   "metadata": {},
   "outputs": [
    {
     "data": {
      "image/png": "[encoded data removed]",
      "text/plain": [
       "<Figure size 1500x700 with 1 Axes>"
      ]
     },
     "metadata": {},
     "output_type": "display_data"
    }
   ],
   "source": [
    "df_dadospessoais_cli.hist(column='peso',figsize=(15,7),bins=20)\n",
    "plt.show()"
   ]
  },
  {
   "cell_type": "markdown",
   "metadata": {},
   "source": [
    "<h4>Tabela dos Salários dos Clientes</h4>"
   ]
  },
  {
   "cell_type": "code",
   "execution_count": 17,
   "metadata": {},
   "outputs": [
    {
     "data": {
      "text/html": [
       "<div>\n",
       "<style scoped>\n",
       "    .dataframe tbody tr th:only-of-type {\n",
       "        vertical-align: middle;\n",
       "    }\n",
       "\n",
       "    .dataframe tbody tr th {\n",
       "        vertical-align: top;\n",
       "    }\n",
       "\n",
       "    .dataframe thead th {\n",
       "        text-align: right;\n",
       "    }\n",
       "</style>\n",
       "<table border=\"1\" class=\"dataframe\">\n",
       "  <thead>\n",
       "    <tr style=\"text-align: right;\">\n",
       "      <th></th>\n",
       "      <th>client_ID</th>\n",
       "      <th>exp(in months)</th>\n",
       "      <th>salary(in thousands)</th>\n",
       "    </tr>\n",
       "  </thead>\n",
       "  <tbody>\n",
       "    <tr>\n",
       "      <th>0</th>\n",
       "      <td>1</td>\n",
       "      <td>18.290293</td>\n",
       "      <td>16.521825</td>\n",
       "    </tr>\n",
       "    <tr>\n",
       "      <th>1</th>\n",
       "      <td>2</td>\n",
       "      <td>17.023407</td>\n",
       "      <td>11.666234</td>\n",
       "    </tr>\n",
       "    <tr>\n",
       "      <th>2</th>\n",
       "      <td>3</td>\n",
       "      <td>26.343613</td>\n",
       "      <td>23.167255</td>\n",
       "    </tr>\n",
       "    <tr>\n",
       "      <th>3</th>\n",
       "      <td>4</td>\n",
       "      <td>19.105834</td>\n",
       "      <td>20.877145</td>\n",
       "    </tr>\n",
       "    <tr>\n",
       "      <th>4</th>\n",
       "      <td>5</td>\n",
       "      <td>27.742516</td>\n",
       "      <td>23.166236</td>\n",
       "    </tr>\n",
       "  </tbody>\n",
       "</table>\n",
       "</div>"
      ],
      "text/plain": [
       "   client_ID  exp(in months)  salary(in thousands)\n",
       "0          1       18.290293             16.521825\n",
       "1          2       17.023407             11.666234\n",
       "2          3       26.343613             23.167255\n",
       "3          4       19.105834             20.877145\n",
       "4          5       27.742516             23.166236"
      ]
     },
     "execution_count": 17,
     "metadata": {},
     "output_type": "execute_result"
    }
   ],
   "source": [
    "df_salario_cli.head()"
   ]
  },
  {
   "cell_type": "code",
   "execution_count": 18,
   "metadata": {},
   "outputs": [
    {
     "name": "stdout",
     "output_type": "stream",
     "text": [
      "<class 'pandas.core.frame.DataFrame'>\n",
      "RangeIndex: 1000 entries, 0 to 999\n",
      "Data columns (total 3 columns):\n",
      " #   Column                Non-Null Count  Dtype  \n",
      "---  ------                --------------  -----  \n",
      " 0   client_ID             1000 non-null   int64  \n",
      " 1   exp(in months)        1000 non-null   float64\n",
      " 2   salary(in thousands)  1000 non-null   float64\n",
      "dtypes: float64(2), int64(1)\n",
      "memory usage: 23.6 KB\n"
     ]
    }
   ],
   "source": [
    "df_salario_cli.info()"
   ]
  },
  {
   "cell_type": "code",
   "execution_count": 19,
   "metadata": {},
   "outputs": [
    {
     "data": {
      "text/html": [
       "<div>\n",
       "<style scoped>\n",
       "    .dataframe tbody tr th:only-of-type {\n",
       "        vertical-align: middle;\n",
       "    }\n",
       "\n",
       "    .dataframe tbody tr th {\n",
       "        vertical-align: top;\n",
       "    }\n",
       "\n",
       "    .dataframe thead th {\n",
       "        text-align: right;\n",
       "    }\n",
       "</style>\n",
       "<table border=\"1\" class=\"dataframe\">\n",
       "  <thead>\n",
       "    <tr style=\"text-align: right;\">\n",
       "      <th></th>\n",
       "      <th>id_cliente</th>\n",
       "      <th>Exp</th>\n",
       "      <th>Salary</th>\n",
       "    </tr>\n",
       "  </thead>\n",
       "  <tbody>\n",
       "    <tr>\n",
       "      <th>0</th>\n",
       "      <td>1</td>\n",
       "      <td>18.290293</td>\n",
       "      <td>16.521825</td>\n",
       "    </tr>\n",
       "    <tr>\n",
       "      <th>1</th>\n",
       "      <td>2</td>\n",
       "      <td>17.023407</td>\n",
       "      <td>11.666234</td>\n",
       "    </tr>\n",
       "    <tr>\n",
       "      <th>2</th>\n",
       "      <td>3</td>\n",
       "      <td>26.343613</td>\n",
       "      <td>23.167255</td>\n",
       "    </tr>\n",
       "    <tr>\n",
       "      <th>3</th>\n",
       "      <td>4</td>\n",
       "      <td>19.105834</td>\n",
       "      <td>20.877145</td>\n",
       "    </tr>\n",
       "    <tr>\n",
       "      <th>4</th>\n",
       "      <td>5</td>\n",
       "      <td>27.742516</td>\n",
       "      <td>23.166236</td>\n",
       "    </tr>\n",
       "    <tr>\n",
       "      <th>...</th>\n",
       "      <td>...</td>\n",
       "      <td>...</td>\n",
       "      <td>...</td>\n",
       "    </tr>\n",
       "    <tr>\n",
       "      <th>995</th>\n",
       "      <td>996</td>\n",
       "      <td>22.161741</td>\n",
       "      <td>24.666502</td>\n",
       "    </tr>\n",
       "    <tr>\n",
       "      <th>996</th>\n",
       "      <td>997</td>\n",
       "      <td>32.266497</td>\n",
       "      <td>24.160270</td>\n",
       "    </tr>\n",
       "    <tr>\n",
       "      <th>997</th>\n",
       "      <td>998</td>\n",
       "      <td>17.039030</td>\n",
       "      <td>19.903797</td>\n",
       "    </tr>\n",
       "    <tr>\n",
       "      <th>998</th>\n",
       "      <td>999</td>\n",
       "      <td>25.222124</td>\n",
       "      <td>21.974413</td>\n",
       "    </tr>\n",
       "    <tr>\n",
       "      <th>999</th>\n",
       "      <td>1000</td>\n",
       "      <td>16.418028</td>\n",
       "      <td>19.634787</td>\n",
       "    </tr>\n",
       "  </tbody>\n",
       "</table>\n",
       "<p>1000 rows × 3 columns</p>\n",
       "</div>"
      ],
      "text/plain": [
       "     id_cliente        Exp     Salary\n",
       "0             1  18.290293  16.521825\n",
       "1             2  17.023407  11.666234\n",
       "2             3  26.343613  23.167255\n",
       "3             4  19.105834  20.877145\n",
       "4             5  27.742516  23.166236\n",
       "..          ...        ...        ...\n",
       "995         996  22.161741  24.666502\n",
       "996         997  32.266497  24.160270\n",
       "997         998  17.039030  19.903797\n",
       "998         999  25.222124  21.974413\n",
       "999        1000  16.418028  19.634787\n",
       "\n",
       "[1000 rows x 3 columns]"
      ]
     },
     "execution_count": 19,
     "metadata": {},
     "output_type": "execute_result"
    }
   ],
   "source": [
    "df_salario_cli = df_salario_cli.rename(columns={'client_ID':'id_cliente','exp(in months)':'Exp', 'salary(in thousands)': 'Salary'})\n",
    "df_salario_cli"
   ]
  },
  {
   "cell_type": "markdown",
   "metadata": {},
   "source": [
    "<h4>Concatenar e Organizar Dados</h4>"
   ]
  },
  {
   "cell_type": "code",
   "execution_count": 20,
   "metadata": {},
   "outputs": [],
   "source": [
    "df_merge = df_idade.merge(df_dadospessoais_cli,on=\"id_cliente\")\n",
    "df_merge = df_merge.merge(df_estados,on=\"id_estado\")\n",
    "df_merge = df_merge.merge(df_salario_cli,on=\"id_cliente\")"
   ]
  },
  {
   "cell_type": "code",
   "execution_count": 21,
   "metadata": {},
   "outputs": [
    {
     "data": {
      "text/html": [
       "<div>\n",
       "<style scoped>\n",
       "    .dataframe tbody tr th:only-of-type {\n",
       "        vertical-align: middle;\n",
       "    }\n",
       "\n",
       "    .dataframe tbody tr th {\n",
       "        vertical-align: top;\n",
       "    }\n",
       "\n",
       "    .dataframe thead th {\n",
       "        text-align: right;\n",
       "    }\n",
       "</style>\n",
       "<table border=\"1\" class=\"dataframe\">\n",
       "  <thead>\n",
       "    <tr style=\"text-align: right;\">\n",
       "      <th></th>\n",
       "      <th>id_cliente</th>\n",
       "      <th>idade</th>\n",
       "      <th>peso</th>\n",
       "      <th>colesterol</th>\n",
       "      <th>genero</th>\n",
       "      <th>id_estado</th>\n",
       "      <th>estado</th>\n",
       "      <th>sigla_estado</th>\n",
       "      <th>pais</th>\n",
       "      <th>Exp</th>\n",
       "      <th>Salary</th>\n",
       "    </tr>\n",
       "  </thead>\n",
       "  <tbody>\n",
       "    <tr>\n",
       "      <th>0</th>\n",
       "      <td>1</td>\n",
       "      <td>17</td>\n",
       "      <td>102.0</td>\n",
       "      <td>111</td>\n",
       "      <td>Masculino</td>\n",
       "      <td>23</td>\n",
       "      <td>Roraima</td>\n",
       "      <td>RR</td>\n",
       "      <td>Brasil</td>\n",
       "      <td>18.290293</td>\n",
       "      <td>16.521825</td>\n",
       "    </tr>\n",
       "    <tr>\n",
       "      <th>1</th>\n",
       "      <td>54</td>\n",
       "      <td>48</td>\n",
       "      <td>149.0</td>\n",
       "      <td>183</td>\n",
       "      <td>Masculino</td>\n",
       "      <td>23</td>\n",
       "      <td>Roraima</td>\n",
       "      <td>RR</td>\n",
       "      <td>Brasil</td>\n",
       "      <td>33.723395</td>\n",
       "      <td>41.540865</td>\n",
       "    </tr>\n",
       "    <tr>\n",
       "      <th>2</th>\n",
       "      <td>61</td>\n",
       "      <td>70</td>\n",
       "      <td>113.0</td>\n",
       "      <td>129</td>\n",
       "      <td>Feminino</td>\n",
       "      <td>23</td>\n",
       "      <td>Roraima</td>\n",
       "      <td>RR</td>\n",
       "      <td>Brasil</td>\n",
       "      <td>17.060087</td>\n",
       "      <td>12.949522</td>\n",
       "    </tr>\n",
       "    <tr>\n",
       "      <th>3</th>\n",
       "      <td>147</td>\n",
       "      <td>40</td>\n",
       "      <td>140.0</td>\n",
       "      <td>171</td>\n",
       "      <td>Masculino</td>\n",
       "      <td>23</td>\n",
       "      <td>Roraima</td>\n",
       "      <td>RR</td>\n",
       "      <td>Brasil</td>\n",
       "      <td>19.525438</td>\n",
       "      <td>22.227984</td>\n",
       "    </tr>\n",
       "    <tr>\n",
       "      <th>4</th>\n",
       "      <td>154</td>\n",
       "      <td>26</td>\n",
       "      <td>134.0</td>\n",
       "      <td>162</td>\n",
       "      <td>Feminino</td>\n",
       "      <td>23</td>\n",
       "      <td>Roraima</td>\n",
       "      <td>RR</td>\n",
       "      <td>Brasil</td>\n",
       "      <td>16.021363</td>\n",
       "      <td>15.872766</td>\n",
       "    </tr>\n",
       "    <tr>\n",
       "      <th>...</th>\n",
       "      <td>...</td>\n",
       "      <td>...</td>\n",
       "      <td>...</td>\n",
       "      <td>...</td>\n",
       "      <td>...</td>\n",
       "      <td>...</td>\n",
       "      <td>...</td>\n",
       "      <td>...</td>\n",
       "      <td>...</td>\n",
       "      <td>...</td>\n",
       "      <td>...</td>\n",
       "    </tr>\n",
       "    <tr>\n",
       "      <th>542</th>\n",
       "      <td>452</td>\n",
       "      <td>61</td>\n",
       "      <td>117.0</td>\n",
       "      <td>138</td>\n",
       "      <td>Feminino</td>\n",
       "      <td>19</td>\n",
       "      <td>Rio de Janeiro</td>\n",
       "      <td>RJ</td>\n",
       "      <td>Brasil</td>\n",
       "      <td>15.732876</td>\n",
       "      <td>8.761629</td>\n",
       "    </tr>\n",
       "    <tr>\n",
       "      <th>543</th>\n",
       "      <td>454</td>\n",
       "      <td>70</td>\n",
       "      <td>106.0</td>\n",
       "      <td>115</td>\n",
       "      <td>Masculino</td>\n",
       "      <td>19</td>\n",
       "      <td>Rio de Janeiro</td>\n",
       "      <td>RJ</td>\n",
       "      <td>Brasil</td>\n",
       "      <td>34.119089</td>\n",
       "      <td>39.292489</td>\n",
       "    </tr>\n",
       "    <tr>\n",
       "      <th>544</th>\n",
       "      <td>510</td>\n",
       "      <td>48</td>\n",
       "      <td>110.0</td>\n",
       "      <td>120</td>\n",
       "      <td>Feminino</td>\n",
       "      <td>19</td>\n",
       "      <td>Rio de Janeiro</td>\n",
       "      <td>RJ</td>\n",
       "      <td>Brasil</td>\n",
       "      <td>9.857476</td>\n",
       "      <td>18.292493</td>\n",
       "    </tr>\n",
       "    <tr>\n",
       "      <th>545</th>\n",
       "      <td>516</td>\n",
       "      <td>47</td>\n",
       "      <td>166.0</td>\n",
       "      <td>200</td>\n",
       "      <td>Feminino</td>\n",
       "      <td>19</td>\n",
       "      <td>Rio de Janeiro</td>\n",
       "      <td>RJ</td>\n",
       "      <td>Brasil</td>\n",
       "      <td>28.656208</td>\n",
       "      <td>37.385704</td>\n",
       "    </tr>\n",
       "    <tr>\n",
       "      <th>546</th>\n",
       "      <td>523</td>\n",
       "      <td>26</td>\n",
       "      <td>103.0</td>\n",
       "      <td>110</td>\n",
       "      <td>Masculino</td>\n",
       "      <td>19</td>\n",
       "      <td>Rio de Janeiro</td>\n",
       "      <td>RJ</td>\n",
       "      <td>Brasil</td>\n",
       "      <td>28.270579</td>\n",
       "      <td>31.580182</td>\n",
       "    </tr>\n",
       "  </tbody>\n",
       "</table>\n",
       "<p>547 rows × 11 columns</p>\n",
       "</div>"
      ],
      "text/plain": [
       "     id_cliente  idade   peso  colesterol     genero  id_estado  \\\n",
       "0             1     17  102.0         111  Masculino         23   \n",
       "1            54     48  149.0         183  Masculino         23   \n",
       "2            61     70  113.0         129   Feminino         23   \n",
       "3           147     40  140.0         171  Masculino         23   \n",
       "4           154     26  134.0         162   Feminino         23   \n",
       "..          ...    ...    ...         ...        ...        ...   \n",
       "542         452     61  117.0         138   Feminino         19   \n",
       "543         454     70  106.0         115  Masculino         19   \n",
       "544         510     48  110.0         120   Feminino         19   \n",
       "545         516     47  166.0         200   Feminino         19   \n",
       "546         523     26  103.0         110  Masculino         19   \n",
       "\n",
       "             estado sigla_estado    pais        Exp     Salary  \n",
       "0           Roraima           RR  Brasil  18.290293  16.521825  \n",
       "1           Roraima           RR  Brasil  33.723395  41.540865  \n",
       "2           Roraima           RR  Brasil  17.060087  12.949522  \n",
       "3           Roraima           RR  Brasil  19.525438  22.227984  \n",
       "4           Roraima           RR  Brasil  16.021363  15.872766  \n",
       "..              ...          ...     ...        ...        ...  \n",
       "542  Rio de Janeiro           RJ  Brasil  15.732876   8.761629  \n",
       "543  Rio de Janeiro           RJ  Brasil  34.119089  39.292489  \n",
       "544  Rio de Janeiro           RJ  Brasil   9.857476  18.292493  \n",
       "545  Rio de Janeiro           RJ  Brasil  28.656208  37.385704  \n",
       "546  Rio de Janeiro           RJ  Brasil  28.270579  31.580182  \n",
       "\n",
       "[547 rows x 11 columns]"
      ]
     },
     "execution_count": 21,
     "metadata": {},
     "output_type": "execute_result"
    }
   ],
   "source": [
    "df_merge"
   ]
  },
  {
   "cell_type": "markdown",
   "metadata": {},
   "source": [
    "<h3>3 - Analisar Dados </h3>"
   ]
  },
  {
   "cell_type": "code",
   "execution_count": 22,
   "metadata": {},
   "outputs": [],
   "source": [
    "from sklearn.cluster import KMeans"
   ]
  },
  {
   "cell_type": "code",
   "execution_count": 23,
   "metadata": {},
   "outputs": [],
   "source": [
    "variaveis_cluster = [\"Exp\",\"Salary\"]"
   ]
  },
  {
   "cell_type": "code",
   "execution_count": 24,
   "metadata": {},
   "outputs": [],
   "source": [
    "def calc_wcss(dados_cli,num_clusters):\n",
    "   wcss = []\n",
    "   for k in range(1,1+num_clusters):\n",
    "      kmeans = KMeans(n_clusters=k,random_state=0, init='k-means++')\n",
    "      kmeans.fit(X=dados_cli)\n",
    "      wcss.append(kmeans.inertia_)\n",
    "   return wcss"
   ]
  },
  {
   "cell_type": "code",
   "execution_count": 25,
   "metadata": {},
   "outputs": [
    {
     "name": "stderr",
     "output_type": "stream",
     "text": [
      "C:\\Users\\mathe\\AppData\\Roaming\\Python\\Python311\\site-packages\\sklearn\\cluster\\_kmeans.py:1412: FutureWarning: The default value of `n_init` will change from 10 to 'auto' in 1.4. Set the value of `n_init` explicitly to suppress the warning\n",
      "  super()._check_params_vs_input(X, default_n_init=10)\n",
      "C:\\Users\\mathe\\AppData\\Roaming\\Python\\Python311\\site-packages\\sklearn\\cluster\\_kmeans.py:1412: FutureWarning: The default value of `n_init` will change from 10 to 'auto' in 1.4. Set the value of `n_init` explicitly to suppress the warning\n",
      "  super()._check_params_vs_input(X, default_n_init=10)\n",
      "C:\\Users\\mathe\\AppData\\Roaming\\Python\\Python311\\site-packages\\sklearn\\cluster\\_kmeans.py:1412: FutureWarning: The default value of `n_init` will change from 10 to 'auto' in 1.4. Set the value of `n_init` explicitly to suppress the warning\n",
      "  super()._check_params_vs_input(X, default_n_init=10)\n",
      "C:\\Users\\mathe\\AppData\\Roaming\\Python\\Python311\\site-packages\\sklearn\\cluster\\_kmeans.py:1412: FutureWarning: The default value of `n_init` will change from 10 to 'auto' in 1.4. Set the value of `n_init` explicitly to suppress the warning\n",
      "  super()._check_params_vs_input(X, default_n_init=10)\n",
      "C:\\Users\\mathe\\AppData\\Roaming\\Python\\Python311\\site-packages\\sklearn\\cluster\\_kmeans.py:1412: FutureWarning: The default value of `n_init` will change from 10 to 'auto' in 1.4. Set the value of `n_init` explicitly to suppress the warning\n",
      "  super()._check_params_vs_input(X, default_n_init=10)\n",
      "C:\\Users\\mathe\\AppData\\Roaming\\Python\\Python311\\site-packages\\sklearn\\cluster\\_kmeans.py:1412: FutureWarning: The default value of `n_init` will change from 10 to 'auto' in 1.4. Set the value of `n_init` explicitly to suppress the warning\n",
      "  super()._check_params_vs_input(X, default_n_init=10)\n",
      "C:\\Users\\mathe\\AppData\\Roaming\\Python\\Python311\\site-packages\\sklearn\\cluster\\_kmeans.py:1412: FutureWarning: The default value of `n_init` will change from 10 to 'auto' in 1.4. Set the value of `n_init` explicitly to suppress the warning\n",
      "  super()._check_params_vs_input(X, default_n_init=10)\n",
      "C:\\Users\\mathe\\AppData\\Roaming\\Python\\Python311\\site-packages\\sklearn\\cluster\\_kmeans.py:1412: FutureWarning: The default value of `n_init` will change from 10 to 'auto' in 1.4. Set the value of `n_init` explicitly to suppress the warning\n",
      "  super()._check_params_vs_input(X, default_n_init=10)\n",
      "C:\\Users\\mathe\\AppData\\Roaming\\Python\\Python311\\site-packages\\sklearn\\cluster\\_kmeans.py:1412: FutureWarning: The default value of `n_init` will change from 10 to 'auto' in 1.4. Set the value of `n_init` explicitly to suppress the warning\n",
      "  super()._check_params_vs_input(X, default_n_init=10)\n",
      "C:\\Users\\mathe\\AppData\\Roaming\\Python\\Python311\\site-packages\\sklearn\\cluster\\_kmeans.py:1412: FutureWarning: The default value of `n_init` will change from 10 to 'auto' in 1.4. Set the value of `n_init` explicitly to suppress the warning\n",
      "  super()._check_params_vs_input(X, default_n_init=10)\n"
     ]
    }
   ],
   "source": [
    "wcss_clientes = calc_wcss(df_merge[variaveis_cluster],10)"
   ]
  },
  {
   "cell_type": "markdown",
   "metadata": {},
   "source": [
    "<h3>5 - Visualizar Dados </h3>"
   ]
  },
  {
   "cell_type": "code",
   "execution_count": 26,
   "metadata": {},
   "outputs": [],
   "source": [
    "import plotly.express as px  \n",
    "import plotly.offline as py\n",
    "import plotly.graph_objects as go "
   ]
  },
  {
   "cell_type": "code",
   "execution_count": 27,
   "metadata": {},
   "outputs": [
    {
     "data": {
      "application/vnd.plotly.v1+json": {
       "config": {
        "plotlyServerURL": "https://plot.ly"
       },
       "data": [
        {
         "hovertemplate": "x=%{x}<br>y=%{y}<extra></extra>",
         "legendgroup": "",
         "line": {
          "color": "#636efa",
          "dash": "solid"
         },
         "marker": {
          "symbol": "circle"
         },
         "mode": "lines",
         "name": "",
         "orientation": "v",
         "showlegend": false,
         "type": "scatter",
         "x": [
          1,
          2,
          3,
          4,
          5,
          6,
          7,
          8,
          9,
          10
         ],
         "xaxis": "x",
         "y": [
          87967.30238735826,
          36307.72625228041,
          22317.25470759316,
          17000.492232336823,
          13852.679304126337,
          11892.54489248172,
          10572.378274913484,
          9337.351841841191,
          8299.959774351422,
          7332.8044883052025
         ],
         "yaxis": "y"
        }
       ],
       "layout": {
        "legend": {
         "tracegroupgap": 0
        },
        "margin": {
         "t": 60
        },
        "template": {
         "data": {
          "bar": [
           {
            "error_x": {
             "color": "#2a3f5f"
            },
            "error_y": {
             "color": "#2a3f5f"
            },
            "marker": {
             "line": {
              "color": "white",
              "width": 0.5
             },
             "pattern": {
              "fillmode": "overlay",
              "size": 10,
              "solidity": 0.2
             }
            },
            "type": "bar"
           }
          ],
          "barpolar": [
           {
            "marker": {
             "line": {
              "color": "white",
              "width": 0.5
             },
             "pattern": {
              "fillmode": "overlay",
              "size": 10,
              "solidity": 0.2
             }
            },
            "type": "barpolar"
           }
          ],
          "carpet": [
           {
            "aaxis": {
             "endlinecolor": "#2a3f5f",
             "gridcolor": "#C8D4E3",
             "linecolor": "#C8D4E3",
             "minorgridcolor": "#C8D4E3",
             "startlinecolor": "#2a3f5f"
            },
            "baxis": {
             "endlinecolor": "#2a3f5f",
             "gridcolor": "#C8D4E3",
             "linecolor": "#C8D4E3",
             "minorgridcolor": "#C8D4E3",
             "startlinecolor": "#2a3f5f"
            },
            "type": "carpet"
           }
          ],
          "choropleth": [
           {
            "colorbar": {
             "outlinewidth": 0,
             "ticks": ""
            },
            "type": "choropleth"
           }
          ],
          "contour": [
           {
            "colorbar": {
             "outlinewidth": 0,
             "ticks": ""
            },
            "colorscale": [
             [
              0,
              "#0d0887"
             ],
             [
              0.1111111111111111,
              "#46039f"
             ],
             [
              0.2222222222222222,
              "#7201a8"
             ],
             [
              0.3333333333333333,
              "#9c179e"
             ],
             [
              0.4444444444444444,
              "#bd3786"
             ],
             [
              0.5555555555555556,
              "#d8576b"
             ],
             [
              0.6666666666666666,
              "#ed7953"
             ],
             [
              0.7777777777777778,
              "#fb9f3a"
             ],
             [
              0.8888888888888888,
              "#fdca26"
             ],
             [
              1,
              "#f0f921"
             ]
            ],
            "type": "contour"
           }
          ],
          "contourcarpet": [
           {
            "colorbar": {
             "outlinewidth": 0,
             "ticks": ""
            },
            "type": "contourcarpet"
           }
          ],
          "heatmap": [
           {
            "colorbar": {
             "outlinewidth": 0,
             "ticks": ""
            },
            "colorscale": [
             [
              0,
              "#0d0887"
             ],
             [
              0.1111111111111111,
              "#46039f"
             ],
             [
              0.2222222222222222,
              "#7201a8"
             ],
             [
              0.3333333333333333,
              "#9c179e"
             ],
             [
              0.4444444444444444,
              "#bd3786"
             ],
             [
              0.5555555555555556,
              "#d8576b"
             ],
             [
              0.6666666666666666,
              "#ed7953"
             ],
             [
              0.7777777777777778,
              "#fb9f3a"
             ],
             [
              0.8888888888888888,
              "#fdca26"
             ],
             [
              1,
              "#f0f921"
             ]
            ],
            "type": "heatmap"
           }
          ],
          "heatmapgl": [
           {
            "colorbar": {
             "outlinewidth": 0,
             "ticks": ""
            },
            "colorscale": [
             [
              0,
              "#0d0887"
             ],
             [
              0.1111111111111111,
              "#46039f"
             ],
             [
              0.2222222222222222,
              "#7201a8"
             ],
             [
              0.3333333333333333,
              "#9c179e"
             ],
             [
              0.4444444444444444,
              "#bd3786"
             ],
             [
              0.5555555555555556,
              "#d8576b"
             ],
             [
              0.6666666666666666,
              "#ed7953"
             ],
             [
              0.7777777777777778,
              "#fb9f3a"
             ],
             [
              0.8888888888888888,
              "#fdca26"
             ],
             [
              1,
              "#f0f921"
             ]
            ],
            "type": "heatmapgl"
           }
          ],
          "histogram": [
           {
            "marker": {
             "pattern": {
              "fillmode": "overlay",
              "size": 10,
              "solidity": 0.2
             }
            },
            "type": "histogram"
           }
          ],
          "histogram2d": [
           {
            "colorbar": {
             "outlinewidth": 0,
             "ticks": ""
            },
            "colorscale": [
             [
              0,
              "#0d0887"
             ],
             [
              0.1111111111111111,
              "#46039f"
             ],
             [
              0.2222222222222222,
              "#7201a8"
             ],
             [
              0.3333333333333333,
              "#9c179e"
             ],
             [
              0.4444444444444444,
              "#bd3786"
             ],
             [
              0.5555555555555556,
              "#d8576b"
             ],
             [
              0.6666666666666666,
              "#ed7953"
             ],
             [
              0.7777777777777778,
              "#fb9f3a"
             ],
             [
              0.8888888888888888,
              "#fdca26"
             ],
             [
              1,
              "#f0f921"
             ]
            ],
            "type": "histogram2d"
           }
          ],
          "histogram2dcontour": [
           {
            "colorbar": {
             "outlinewidth": 0,
             "ticks": ""
            },
            "colorscale": [
             [
              0,
              "#0d0887"
             ],
             [
              0.1111111111111111,
              "#46039f"
             ],
             [
              0.2222222222222222,
              "#7201a8"
             ],
             [
              0.3333333333333333,
              "#9c179e"
             ],
             [
              0.4444444444444444,
              "#bd3786"
             ],
             [
              0.5555555555555556,
              "#d8576b"
             ],
             [
              0.6666666666666666,
              "#ed7953"
             ],
             [
              0.7777777777777778,
              "#fb9f3a"
             ],
             [
              0.8888888888888888,
              "#fdca26"
             ],
             [
              1,
              "#f0f921"
             ]
            ],
            "type": "histogram2dcontour"
           }
          ],
          "mesh3d": [
           {
            "colorbar": {
             "outlinewidth": 0,
             "ticks": ""
            },
            "type": "mesh3d"
           }
          ],
          "parcoords": [
           {
            "line": {
             "colorbar": {
              "outlinewidth": 0,
              "ticks": ""
             }
            },
            "type": "parcoords"
           }
          ],
          "pie": [
           {
            "automargin": true,
            "type": "pie"
           }
          ],
          "scatter": [
           {
            "fillpattern": {
             "fillmode": "overlay",
             "size": 10,
             "solidity": 0.2
            },
            "type": "scatter"
           }
          ],
          "scatter3d": [
           {
            "line": {
             "colorbar": {
              "outlinewidth": 0,
              "ticks": ""
             }
            },
            "marker": {
             "colorbar": {
              "outlinewidth": 0,
              "ticks": ""
             }
            },
            "type": "scatter3d"
           }
          ],
          "scattercarpet": [
           {
            "marker": {
             "colorbar": {
              "outlinewidth": 0,
              "ticks": ""
             }
            },
            "type": "scattercarpet"
           }
          ],
          "scattergeo": [
           {
            "marker": {
             "colorbar": {
              "outlinewidth": 0,
              "ticks": ""
             }
            },
            "type": "scattergeo"
           }
          ],
          "scattergl": [
           {
            "marker": {
             "colorbar": {
              "outlinewidth": 0,
              "ticks": ""
             }
            },
            "type": "scattergl"
           }
          ],
          "scattermapbox": [
           {
            "marker": {
             "colorbar": {
              "outlinewidth": 0,
              "ticks": ""
             }
            },
            "type": "scattermapbox"
           }
          ],
          "scatterpolar": [
           {
            "marker": {
             "colorbar": {
              "outlinewidth": 0,
              "ticks": ""
             }
            },
            "type": "scatterpolar"
           }
          ],
          "scatterpolargl": [
           {
            "marker": {
             "colorbar": {
              "outlinewidth": 0,
              "ticks": ""
             }
            },
            "type": "scatterpolargl"
           }
          ],
          "scatterternary": [
           {
            "marker": {
             "colorbar": {
              "outlinewidth": 0,
              "ticks": ""
             }
            },
            "type": "scatterternary"
           }
          ],
          "surface": [
           {
            "colorbar": {
             "outlinewidth": 0,
             "ticks": ""
            },
            "colorscale": [
             [
              0,
              "#0d0887"
             ],
             [
              0.1111111111111111,
              "#46039f"
             ],
             [
              0.2222222222222222,
              "#7201a8"
             ],
             [
              0.3333333333333333,
              "#9c179e"
             ],
             [
              0.4444444444444444,
              "#bd3786"
             ],
             [
              0.5555555555555556,
              "#d8576b"
             ],
             [
              0.6666666666666666,
              "#ed7953"
             ],
             [
              0.7777777777777778,
              "#fb9f3a"
             ],
             [
              0.8888888888888888,
              "#fdca26"
             ],
             [
              1,
              "#f0f921"
             ]
            ],
            "type": "surface"
           }
          ],
          "table": [
           {
            "cells": {
             "fill": {
              "color": "#EBF0F8"
             },
             "line": {
              "color": "white"
             }
            },
            "header": {
             "fill": {
              "color": "#C8D4E3"
             },
             "line": {
              "color": "white"
             }
            },
            "type": "table"
           }
          ]
         },
         "layout": {
          "annotationdefaults": {
           "arrowcolor": "#2a3f5f",
           "arrowhead": 0,
           "arrowwidth": 1
          },
          "autotypenumbers": "strict",
          "coloraxis": {
           "colorbar": {
            "outlinewidth": 0,
            "ticks": ""
           }
          },
          "colorscale": {
           "diverging": [
            [
             0,
             "#8e0152"
            ],
            [
             0.1,
             "#c51b7d"
            ],
            [
             0.2,
             "#de77ae"
            ],
            [
             0.3,
             "#f1b6da"
            ],
            [
             0.4,
             "#fde0ef"
            ],
            [
             0.5,
             "#f7f7f7"
            ],
            [
             0.6,
             "#e6f5d0"
            ],
            [
             0.7,
             "#b8e186"
            ],
            [
             0.8,
             "#7fbc41"
            ],
            [
             0.9,
             "#4d9221"
            ],
            [
             1,
             "#276419"
            ]
           ],
           "sequential": [
            [
             0,
             "#0d0887"
            ],
            [
             0.1111111111111111,
             "#46039f"
            ],
            [
             0.2222222222222222,
             "#7201a8"
            ],
            [
             0.3333333333333333,
             "#9c179e"
            ],
            [
             0.4444444444444444,
             "#bd3786"
            ],
            [
             0.5555555555555556,
             "#d8576b"
            ],
            [
             0.6666666666666666,
             "#ed7953"
            ],
            [
             0.7777777777777778,
             "#fb9f3a"
            ],
            [
             0.8888888888888888,
             "#fdca26"
            ],
            [
             1,
             "#f0f921"
            ]
           ],
           "sequentialminus": [
            [
             0,
             "#0d0887"
            ],
            [
             0.1111111111111111,
             "#46039f"
            ],
            [
             0.2222222222222222,
             "#7201a8"
            ],
            [
             0.3333333333333333,
             "#9c179e"
            ],
            [
             0.4444444444444444,
             "#bd3786"
            ],
            [
             0.5555555555555556,
             "#d8576b"
            ],
            [
             0.6666666666666666,
             "#ed7953"
            ],
            [
             0.7777777777777778,
             "#fb9f3a"
            ],
            [
             0.8888888888888888,
             "#fdca26"
            ],
            [
             1,
             "#f0f921"
            ]
           ]
          },
          "colorway": [
           "#636efa",
           "#EF553B",
           "#00cc96",
           "#ab63fa",
           "#FFA15A",
           "#19d3f3",
           "#FF6692",
           "#B6E880",
           "#FF97FF",
           "#FECB52"
          ],
          "font": {
           "color": "#2a3f5f"
          },
          "geo": {
           "bgcolor": "white",
           "lakecolor": "white",
           "landcolor": "white",
           "showlakes": true,
           "showland": true,
           "subunitcolor": "#C8D4E3"
          },
          "hoverlabel": {
           "align": "left"
          },
          "hovermode": "closest",
          "mapbox": {
           "style": "light"
          },
          "paper_bgcolor": "white",
          "plot_bgcolor": "white",
          "polar": {
           "angularaxis": {
            "gridcolor": "#EBF0F8",
            "linecolor": "#EBF0F8",
            "ticks": ""
           },
           "bgcolor": "white",
           "radialaxis": {
            "gridcolor": "#EBF0F8",
            "linecolor": "#EBF0F8",
            "ticks": ""
           }
          },
          "scene": {
           "xaxis": {
            "backgroundcolor": "white",
            "gridcolor": "#DFE8F3",
            "gridwidth": 2,
            "linecolor": "#EBF0F8",
            "showbackground": true,
            "ticks": "",
            "zerolinecolor": "#EBF0F8"
           },
           "yaxis": {
            "backgroundcolor": "white",
            "gridcolor": "#DFE8F3",
            "gridwidth": 2,
            "linecolor": "#EBF0F8",
            "showbackground": true,
            "ticks": "",
            "zerolinecolor": "#EBF0F8"
           },
           "zaxis": {
            "backgroundcolor": "white",
            "gridcolor": "#DFE8F3",
            "gridwidth": 2,
            "linecolor": "#EBF0F8",
            "showbackground": true,
            "ticks": "",
            "zerolinecolor": "#EBF0F8"
           }
          },
          "shapedefaults": {
           "line": {
            "color": "#2a3f5f"
           }
          },
          "ternary": {
           "aaxis": {
            "gridcolor": "#DFE8F3",
            "linecolor": "#A2B1C6",
            "ticks": ""
           },
           "baxis": {
            "gridcolor": "#DFE8F3",
            "linecolor": "#A2B1C6",
            "ticks": ""
           },
           "bgcolor": "white",
           "caxis": {
            "gridcolor": "#DFE8F3",
            "linecolor": "#A2B1C6",
            "ticks": ""
           }
          },
          "title": {
           "x": 0.05
          },
          "xaxis": {
           "automargin": true,
           "gridcolor": "#EBF0F8",
           "linecolor": "#EBF0F8",
           "ticks": "",
           "title": {
            "standoff": 15
           },
           "zerolinecolor": "#EBF0F8",
           "zerolinewidth": 2
          },
          "yaxis": {
           "automargin": true,
           "gridcolor": "#EBF0F8",
           "linecolor": "#EBF0F8",
           "ticks": "",
           "title": {
            "standoff": 15
           },
           "zerolinecolor": "#EBF0F8",
           "zerolinewidth": 2
          }
         }
        },
        "title": {
         "text": "WCSS dos clientes"
        },
        "xaxis": {
         "anchor": "y",
         "domain": [
          0,
          1
         ],
         "title": {
          "text": "Número de Cluesters"
         }
        },
        "yaxis": {
         "anchor": "x",
         "domain": [
          0,
          1
         ],
         "title": {
          "text": "WCSS"
         }
        }
       }
      }
     },
     "metadata": {},
     "output_type": "display_data"
    }
   ],
   "source": [
    "grafico_wcss = px.line(x=range(1,len(wcss_clientes)+1),\n",
    "                       y=wcss_clientes)\n",
    "\n",
    "fig = go.Figure(grafico_wcss)\n",
    "fig.update_layout(title=\"WCSS dos clientes\",\n",
    "                  xaxis_title=\"Número de Cluesters\",\n",
    "                  yaxis_title=\"WCSS\",\n",
    "                  template=\"plotly_white\")"
   ]
  },
  {
   "cell_type": "code",
   "execution_count": 28,
   "metadata": {},
   "outputs": [
    {
     "name": "stderr",
     "output_type": "stream",
     "text": [
      "C:\\Users\\mathe\\AppData\\Roaming\\Python\\Python311\\site-packages\\sklearn\\cluster\\_kmeans.py:1412: FutureWarning:\n",
      "\n",
      "The default value of `n_init` will change from 10 to 'auto' in 1.4. Set the value of `n_init` explicitly to suppress the warning\n",
      "\n"
     ]
    }
   ],
   "source": [
    "kmeans_cli = KMeans(n_clusters=3,random_state=0,init='k-means++')\n",
    "df_merge[\"cluster\"] = kmeans_cli.fit_predict(df_merge[variaveis_cluster])"
   ]
  },
  {
   "cell_type": "code",
   "execution_count": 29,
   "metadata": {},
   "outputs": [
    {
     "data": {
      "application/vnd.plotly.v1+json": {
       "config": {
        "plotlyServerURL": "https://plot.ly"
       },
       "data": [
        {
         "hovertemplate": "x=%{x}<br>y=%{y}<br>color=%{marker.color}<extra></extra>",
         "legendgroup": "",
         "marker": {
          "color": [
           0,
           1,
           0,
           0,
           0,
           1,
           1,
           2,
           1,
           1,
           0,
           0,
           2,
           2,
           0,
           2,
           1,
           2,
           0,
           2,
           2,
           2,
           2,
           2,
           2,
           0,
           2,
           2,
           1,
           2,
           1,
           1,
           2,
           0,
           2,
           2,
           2,
           0,
           1,
           2,
           2,
           0,
           0,
           2,
           1,
           0,
           0,
           0,
           2,
           2,
           2,
           2,
           1,
           1,
           2,
           0,
           2,
           1,
           2,
           2,
           2,
           0,
           2,
           1,
           2,
           0,
           1,
           0,
           2,
           1,
           2,
           1,
           2,
           2,
           0,
           2,
           0,
           2,
           2,
           2,
           2,
           1,
           2,
           2,
           0,
           0,
           2,
           2,
           0,
           0,
           2,
           2,
           2,
           1,
           0,
           1,
           1,
           2,
           2,
           1,
           1,
           2,
           0,
           2,
           2,
           1,
           1,
           1,
           1,
           0,
           1,
           2,
           1,
           0,
           1,
           1,
           1,
           2,
           2,
           1,
           2,
           0,
           2,
           0,
           1,
           2,
           0,
           1,
           1,
           0,
           2,
           2,
           2,
           2,
           2,
           2,
           1,
           2,
           2,
           0,
           2,
           1,
           2,
           2,
           2,
           0,
           1,
           2,
           1,
           1,
           2,
           0,
           0,
           1,
           2,
           2,
           1,
           0,
           2,
           0,
           0,
           1,
           2,
           0,
           1,
           2,
           1,
           0,
           1,
           1,
           1,
           1,
           1,
           1,
           2,
           1,
           1,
           0,
           2,
           1,
           2,
           2,
           2,
           2,
           1,
           2,
           0,
           1,
           2,
           0,
           2,
           0,
           2,
           0,
           0,
           2,
           0,
           1,
           2,
           2,
           1,
           0,
           2,
           0,
           2,
           2,
           2,
           0,
           2,
           1,
           2,
           2,
           2,
           2,
           1,
           1,
           2,
           1,
           0,
           2,
           2,
           2,
           2,
           2,
           0,
           1,
           0,
           0,
           2,
           2,
           1,
           1,
           0,
           1,
           1,
           0,
           1,
           2,
           2,
           0,
           1,
           2,
           0,
           0,
           0,
           0,
           0,
           2,
           1,
           2,
           0,
           2,
           1,
           1,
           2,
           2,
           0,
           2,
           2,
           1,
           0,
           1,
           0,
           0,
           1,
           2,
           1,
           1,
           2,
           2,
           2,
           1,
           1,
           1,
           2,
           2,
           2,
           0,
           1,
           2,
           0,
           1,
           0,
           0,
           0,
           2,
           1,
           2,
           2,
           2,
           1,
           2,
           1,
           2,
           2,
           2,
           1,
           2,
           1,
           2,
           0,
           0,
           2,
           2,
           1,
           2,
           1,
           1,
           2,
           1,
           2,
           2,
           0,
           0,
           2,
           2,
           0,
           2,
           2,
           2,
           0,
           0,
           2,
           0,
           2,
           2,
           0,
           2,
           1,
           0,
           1,
           0,
           2,
           2,
           2,
           1,
           2,
           1,
           1,
           1,
           0,
           0,
           0,
           2,
           0,
           2,
           0,
           0,
           2,
           1,
           2,
           0,
           1,
           0,
           2,
           2,
           2,
           2,
           0,
           2,
           2,
           2,
           0,
           0,
           2,
           0,
           1,
           1,
           2,
           0,
           0,
           1,
           2,
           0,
           2,
           2,
           1,
           2,
           1,
           2,
           0,
           2,
           0,
           2,
           2,
           2,
           1,
           2,
           1,
           2,
           0,
           1,
           0,
           2,
           1,
           0,
           1,
           1,
           2,
           1,
           2,
           0,
           0,
           1,
           1,
           2,
           2,
           0,
           0,
           1,
           2,
           2,
           2,
           1,
           2,
           0,
           0,
           2,
           2,
           0,
           0,
           0,
           1,
           0,
           0,
           1,
           1,
           1,
           2,
           1,
           1,
           1,
           1,
           2,
           2,
           2,
           2,
           1,
           2,
           2,
           0,
           2,
           2,
           1,
           2,
           1,
           0,
           1,
           2,
           2,
           2,
           2,
           0,
           2,
           0,
           2,
           0,
           1,
           2,
           0,
           2,
           2,
           2,
           0,
           2,
           1,
           2,
           2,
           2,
           0,
           0,
           2,
           1,
           0,
           2,
           2,
           2,
           2,
           1,
           1,
           2,
           0,
           1,
           2,
           2,
           2,
           1,
           2,
           2,
           2,
           1,
           1,
           0,
           1,
           2,
           0,
           2,
           2,
           2,
           1,
           0,
           2,
           2,
           2,
           1,
           2,
           0,
           2,
           1,
           2,
           0,
           2,
           1,
           2,
           1,
           0,
           2,
           2,
           1,
           2,
           0,
           0,
           0,
           1,
           2,
           0,
           2,
           0,
           2,
           0,
           2,
           0,
           2,
           1,
           0,
           0,
           0,
           1,
           2,
           1,
           1,
           0,
           0,
           1,
           0,
           1,
           2
          ],
          "coloraxis": "coloraxis",
          "symbol": "circle"
         },
         "mode": "markers",
         "name": "",
         "orientation": "v",
         "showlegend": false,
         "type": "scatter",
         "x": [
          18.29029331840369,
          33.723395346177185,
          17.060086976614368,
          19.52543809183948,
          16.02136330857475,
          32.60362212565097,
          49.04509017511064,
          22.542032705722885,
          27.26123758906045,
          34.11754595541574,
          15.095317361709233,
          18.7967974871465,
          21.616769660697983,
          22.2737303330036,
          14.909809525425498,
          31.38721359620201,
          40.46354667780699,
          26.667219828777903,
          17.023406691171306,
          27.51493134666241,
          34.00288198307736,
          20.47647992399052,
          27.337593925722437,
          18.614500004339817,
          31.306851019002004,
          21.962905971451505,
          28.825921637184926,
          29.120266878994315,
          42.56769083306738,
          24.08906978238098,
          32.807858172702325,
          30.412402270534454,
          24.485991347060907,
          19.79350233796022,
          26.832778134978987,
          19.88460819614862,
          24.91759948844037,
          16.966970363867887,
          40.59678121709996,
          23.89392324824552,
          26.34361347719473,
          10.591314853822928,
          4.936083791757401,
          25.312274062669765,
          38.2288915713585,
          22.59559760407376,
          3.1535460507469857,
          14.455700731208807,
          24.608791311473198,
          26.19721009985645,
          25.57379162570817,
          18.99412974401347,
          40.8736908541089,
          35.256946032324464,
          31.71899539827228,
          22.259445708178763,
          22.57391021775279,
          31.775629704954028,
          30.944446671583982,
          18.777359745856277,
          19.31384535786662,
          16.495181939834637,
          28.006026539582365,
          34.8264404810553,
          23.780907005931773,
          19.105833871730955,
          29.338543859952853,
          11.323830138093012,
          23.48005468641255,
          39.66193222769353,
          17.092460815437867,
          36.70177089005271,
          17.09689289273679,
          29.985466678107677,
          17.127725129801412,
          27.541562150582237,
          15.156308292306909,
          30.1871938397029,
          32.961204015809706,
          29.526661928314454,
          19.11559149378517,
          33.60628153460911,
          19.250516857948355,
          26.00217811962864,
          12.07125481484804,
          20.08090578467012,
          21.47145205296486,
          27.74251646629961,
          14.186398632395658,
          19.531433402318093,
          21.173974683821235,
          36.8116731120364,
          27.943138069028905,
          37.396947777728776,
          13.289845767018264,
          37.98517278755698,
          29.79376272634408,
          24.118319413157472,
          27.14232622321428,
          35.66747265159082,
          40.81437110161103,
          22.07719561889709,
          13.145444393797936,
          24.85753083253019,
          29.37552346610127,
          38.53056540781265,
          31.67117131063383,
          31.71843486010057,
          31.876558117699577,
          25.743915606255374,
          46.62312496824923,
          26.07416029902864,
          33.06445072691914,
          12.138582380547785,
          37.370093454191625,
          32.816353483103526,
          36.27927490233717,
          31.86677904358792,
          21.086015058373068,
          29.494395974429278,
          27.3538662932848,
          21.72758390676625,
          27.570146135493665,
          13.600975508980166,
          29.932845002865303,
          25.761258165259008,
          11.212569584822134,
          35.613319484387034,
          38.409423014551344,
          20.27965480743334,
          26.89941683858984,
          31.161255911649945,
          20.104063618133832,
          24.561759593011924,
          26.300079228717568,
          25.118294702220624,
          32.841327352783395,
          34.15232256916958,
          25.89202659478492,
          21.075419990455288,
          25.253078580548127,
          48.8709167381833,
          25.296243345744475,
          30.540223506529987,
          21.9841553026219,
          19.902702143809915,
          38.7913810433831,
          23.071924823797243,
          35.07166042507305,
          41.55391125073626,
          22.311467504098083,
          17.06092259505267,
          10.156472356593138,
          27.54715462121157,
          26.873869105017107,
          32.201177644235905,
          34.93973987444071,
          12.014850316212565,
          22.18997390912028,
          14.414220401466252,
          3.567738758593965,
          37.330679845911234,
          24.520122890573077,
          15.693376423847742,
          33.61352530972545,
          25.18356367526124,
          36.39155342253128,
          14.625569665795693,
          36.738916409772685,
          35.39968674340345,
          36.58601165770556,
          37.71604979596741,
          32.555685634338545,
          34.61442436290391,
          28.87506615379233,
          37.0504095160878,
          31.71341213355161,
          9.149199011678206,
          20.774141615624195,
          41.51380791372203,
          23.747002495130697,
          24.983047248781943,
          18.32610618814218,
          26.25477770503695,
          33.22865251038766,
          23.05880376677936,
          14.674661251686384,
          37.79564373859587,
          30.709958670154688,
          12.459376097820964,
          31.17367214008464,
          17.221751440761953,
          30.538382695084707,
          16.781495417977602,
          16.78925838394978,
          24.798200615069515,
          20.08634354464815,
          39.16688560635966,
          28.8093477858984,
          31.170782721217066,
          34.738225843595934,
          16.133802149279816,
          21.364141873901797,
          14.396826593210816,
          25.054500719885624,
          28.771521211924448,
          27.219552751783656,
          21.2886893675645,
          28.402121582156145,
          32.742378066284665,
          20.51520747665669,
          24.129947817177136,
          21.523661503783917,
          21.573901631941965,
          38.82612608610941,
          31.384600757312384,
          35.85282612445013,
          36.925318094362886,
          18.51115732632242,
          28.50094975922608,
          28.64565181975457,
          20.133832159702735,
          17.599284883142666,
          22.059901248983778,
          13.65908069701146,
          38.57835901147671,
          17.449316429069512,
          7.218944686919631,
          25.1816738350718,
          25.389489771196512,
          38.39241657775237,
          29.553023975909497,
          9.606728260450774,
          42.03542043754523,
          38.32957363716882,
          17.214920915958118,
          28.060295804823014,
          35.794736568237255,
          24.093487821383693,
          17.12255631971688,
          35.037612920624085,
          26.92575422584899,
          8.520650916820959,
          19.93924560169456,
          6.267464488984846,
          12.107904867123525,
          14.942548567072471,
          33.31220970413946,
          35.355269580659,
          27.30073622077289,
          15.83438271596597,
          24.156779146279725,
          26.408048489242837,
          41.74247227911404,
          27.87311316810349,
          26.52540745504819,
          13.830284919072133,
          23.252563001889357,
          25.630582043486047,
          46.69068441888163,
          11.15863587893216,
          30.548236356594398,
          18.402236830720103,
          17.299670021960942,
          34.672757488723185,
          16.389791705072557,
          36.561697207369,
          30.234866602603702,
          25.14596099262742,
          21.674849627277297,
          21.65657986966221,
          37.2615662830016,
          36.3171589216323,
          34.58402763284991,
          25.6450959772609,
          27.599185817744136,
          27.062204051071262,
          16.69397781303872,
          34.19212278586294,
          18.845692850264008,
          12.926966107611245,
          33.3491777311185,
          20.3791344872856,
          13.049508089585078,
          17.48171360312518,
          22.40715831778,
          33.5538832306817,
          25.34850055419291,
          28.420269721679272,
          28.045820357233023,
          37.77440673690209,
          22.921104267369937,
          46.1547915759803,
          26.69784098194392,
          23.547483162903948,
          36.720380221295216,
          31.214899912692545,
          16.66270811840068,
          36.10812502253045,
          25.95805704951357,
          17.680956774274463,
          18.187827964678707,
          24.05121351376363,
          26.143057154898077,
          34.20582988356064,
          20.623701559628174,
          37.64365243865489,
          31.61922937269353,
          32.40351002294739,
          43.703897019913896,
          27.839500240312077,
          27.71837094736333,
          20.05168097966031,
          7.304762667776583,
          24.37266374537468,
          30.401226214199355,
          18.87489434658254,
          33.614126798503385,
          27.97990027234613,
          29.129706337413285,
          22.768085845169644,
          14.979448127682732,
          28.64061640946744,
          14.25997913179779,
          30.362364222732307,
          19.202887036311704,
          18.951394153040205,
          24.036481103925727,
          35.52769087821339,
          19.938224722326467,
          33.91865278889753,
          15.747944609873812,
          28.21940645829614,
          22.266668303015237,
          34.174265901983205,
          31.012563068326266,
          22.78594541212088,
          44.299530113226325,
          33.514673785319886,
          39.15711432789952,
          19.965948234296704,
          14.057602056576613,
          9.041360795794072,
          32.401997659305245,
          10.322263294368042,
          25.82250530939325,
          9.352847162183757,
          9.304303592371816,
          22.851395578702963,
          38.55112077903433,
          24.01541760732489,
          17.78951061946195,
          44.45485383652209,
          12.4082567685906,
          23.964725418607628,
          23.80468506016493,
          34.01002098098573,
          31.57547054330588,
          14.840964495914005,
          20.260104992257897,
          28.19556115789688,
          26.700992197024146,
          22.854422424468176,
          12.532462676493092,
          31.336333063055,
          21.56790728510624,
          36.022218119745,
          39.825446961394405,
          26.414290333477112,
          14.858934044323236,
          21.987892701838096,
          38.759397043341934,
          17.721564742158836,
          19.58633060677353,
          27.330557949358276,
          21.880097257207357,
          47.787643408621776,
          23.59449816603655,
          30.70133306092616,
          30.462458942216998,
          27.848844783081724,
          19.026491419053087,
          16.675830780174856,
          29.56933393492796,
          23.677712489198647,
          29.85297671630004,
          30.16014093907559,
          18.317303579641305,
          30.9566988149705,
          20.239726951491896,
          16.934003429604765,
          33.140238395910856,
          3.1968238017002584,
          32.732597136646326,
          35.466143894457815,
          12.89742640850316,
          28.00469722817475,
          31.541654005252816,
          20.587778014529142,
          36.17337413418784,
          24.388743534687617,
          5.420794483502426,
          19.00413662567049,
          45.33530208094858,
          37.08820685836656,
          30.18477730702378,
          24.808444989322545,
          24.254878623470084,
          18.727295344577644,
          43.00767121364163,
          29.782890552932777,
          25.85982121809658,
          28.897109433379264,
          39.204556813933785,
          29.100687577329392,
          15.909033087905,
          18.32271490873461,
          29.72068279884277,
          30.640268525957232,
          17.34782609824609,
          20.64122020089605,
          0.6975935216367901,
          34.78248386122566,
          9.2021987474354,
          21.348023363896957,
          34.3934181179448,
          34.60896563365239,
          31.052167416965855,
          19.081587548915707,
          37.68298208975948,
          44.14309730266764,
          33.13711104710234,
          31.4216613393632,
          31.946152867294423,
          23.472474707718288,
          27.31806158747693,
          25.071632167884868,
          31.64547506813451,
          24.534618188942588,
          25.334592468467736,
          16.4969271631956,
          28.636551467390767,
          24.899612956819407,
          35.45250791446836,
          26.91006991957504,
          36.48815058421477,
          14.107591726993968,
          29.90665829523209,
          23.560012535400475,
          25.98755130646925,
          27.82117956083836,
          24.98438557625904,
          15.914935831450377,
          23.165034883166456,
          21.70925880572077,
          27.88001930432976,
          23.886025887093613,
          38.47516659489768,
          26.528828232731183,
          12.333171957789029,
          27.26598412568637,
          22.92028918391153,
          31.383253617952008,
          20.48779166523305,
          23.293150214059672,
          39.67324708375919,
          36.87830471558768,
          29.78202485733172,
          26.84722691718444,
          17.76690983200837,
          23.105017575545933,
          23.433687039433245,
          41.38689137708688,
          15.59986066430395,
          25.66889614054884,
          34.230605877774536,
          30.427532464320947,
          21.863409197289524,
          36.75407880862551,
          43.27144686955077,
          28.630740939153583,
          19.96209510811049,
          30.7826071558002,
          19.91661985730626,
          26.86580588522509,
          18.8274838796863,
          31.668448196868205,
          24.355194272646635,
          20.73557196827924,
          27.531960133815453,
          34.089612896689474,
          36.64860998315199,
          13.854160416136423,
          30.078419527385897,
          25.084456473661813,
          22.35341767251291,
          26.76687109779073,
          18.741117778298246,
          32.001091572359,
          40.01298608989941,
          17.470506220361585,
          33.39865314456362,
          20.95214792930394,
          31.54187101528438,
          33.027640617128455,
          26.67636453123795,
          15.445179118551124,
          25.25365031352848,
          42.70200982765376,
          32.913829984724025,
          22.87858576474048,
          25.112442041206425,
          38.04993575861333,
          28.133863137507998,
          43.22140301482317,
          17.300361984821947,
          22.44972646918454,
          29.01879354177307,
          49.463221595604125,
          27.111384339650414,
          19.285838825868584,
          20.236579942734277,
          4.908277611808448,
          35.575008947685845,
          31.20573763997685,
          13.911901797810293,
          21.79421046358941,
          9.543038445153297,
          24.079931806939104,
          10.60478118083246,
          25.59014297663809,
          10.445628124893766,
          30.118358595060503,
          34.822676742579674,
          20.02358651149959,
          9.50257629705351,
          10.781589213711293,
          39.337454138386526,
          23.5214477483046,
          37.67326683478599,
          38.92559212543146,
          12.667531632496102,
          15.732876476385236,
          34.11908932195685,
          9.857476340127434,
          28.65620825034105,
          28.27057859069322
         ],
         "xaxis": "x",
         "y": [
          16.52182490535894,
          41.54086469703128,
          12.949522358784982,
          22.22798385955134,
          15.872766147708498,
          36.10513811045829,
          44.90744187192091,
          27.30900161772217,
          36.27024141979025,
          36.30486730209436,
          12.707029215575988,
          19.788111861356523,
          21.24296769918506,
          23.519814642165528,
          25.992450412122185,
          29.10564412626415,
          38.31997429331083,
          26.60999946483826,
          11.666233723936466,
          26.922870208080727,
          22.441635356043047,
          22.13167952978297,
          28.44371364871443,
          25.83807528533155,
          31.03146071677933,
          17.85394258188802,
          28.45540733352181,
          23.7576672240866,
          35.897076282573735,
          18.06013225565234,
          36.78557329417792,
          41.75052922139716,
          29.937334044059394,
          15.306637939743531,
          28.11076599089921,
          24.768026486753595,
          25.777176662202244,
          20.98173978012952,
          39.26372574009203,
          24.96320273028324,
          23.167254546085974,
          18.59792877117084,
          18.686990018434678,
          30.08146508960951,
          39.625527267796144,
          14.40036501076782,
          2.856367325579804,
          23.97298256737169,
          23.638539204530247,
          22.37012725274048,
          31.274685230713366,
          22.997153130063303,
          41.464667055266816,
          43.57546555285239,
          29.92156792589912,
          17.07032296919731,
          30.057620046969863,
          36.48221992561083,
          27.91506417682946,
          26.8262336820623,
          24.128848522155916,
          14.45250790058022,
          27.99144009321824,
          31.110424050404184,
          23.953281814754515,
          20.87714542347941,
          33.86065242342299,
          13.956590358118014,
          24.803161777520423,
          44.64106534843518,
          27.25560194451641,
          36.43429671575332,
          25.285457919546744,
          28.95504466469472,
          24.21424075747963,
          16.46733405617372,
          14.63167921699505,
          31.17806285635236,
          17.836198078495173,
          29.633383338175467,
          25.646291128586785,
          32.99961470703246,
          25.567212253639493,
          23.07567393961627,
          17.553279316976045,
          17.51772114458199,
          20.544384319147188,
          23.16623569197929,
          15.294169542666104,
          21.84910721360477,
          31.487495135227046,
          24.86820447844261,
          32.12335096981062,
          33.33169867667081,
          14.88637798124276,
          32.976208270036274,
          34.390143634971906,
          26.44433513510568,
          29.647397401510798,
          32.69100986346763,
          33.16183603166211,
          30.975465934016583,
          13.81635899669437,
          26.8320406679501,
          26.15438995558906,
          39.91310788858195,
          32.966250758985865,
          33.22816701111831,
          39.44702365687301,
          14.741576427303434,
          47.21657054618716,
          26.549101695436303,
          30.814717169988047,
          14.010703891163203,
          36.15111164343019,
          34.76883491138347,
          37.792901540717125,
          19.24723405585521,
          27.61008627553768,
          34.293158741317825,
          30.75027035374813,
          11.283107537593628,
          27.12725801647796,
          13.056868539668438,
          33.15946112615957,
          28.116477113988843,
          7.903429572340681,
          32.867209584940255,
          30.75765533703064,
          19.49083867603041,
          15.83386988929964,
          27.58746630621132,
          26.92190064363733,
          25.70305179981216,
          29.658186570335268,
          24.93425873480869,
          32.032652899109856,
          26.54923556134228,
          29.45001095390228,
          20.19090958136516,
          27.23190500528223,
          49.53996574386805,
          23.9020852648528,
          24.648750148674395,
          24.35874645168085,
          13.74884868915766,
          40.982804168842655,
          23.096871921677167,
          42.97365266340642,
          40.612278132745786,
          32.08418884878034,
          20.21235782521789,
          19.059165577431592,
          39.25092951395772,
          32.34778357584536,
          22.773602615923117,
          33.34363003447438,
          10.642280115867504,
          33.60934166818038,
          19.01459700369354,
          17.596696844222862,
          26.128318972151902,
          22.62000304740146,
          18.07789157735513,
          36.15596229613463,
          19.670494379209025,
          31.15957048955322,
          15.936251422369716,
          43.08355211494715,
          32.85066496258241,
          37.999267085225824,
          40.68096948262986,
          31.71870044435325,
          38.74316342638873,
          26.8781370587256,
          35.910727797316945,
          32.26611842438334,
          12.898193002195573,
          26.85866061900198,
          38.24687555984163,
          26.04333166434784,
          22.23621025459165,
          29.33940106787522,
          21.448288795172022,
          31.31339806590276,
          29.30918530169017,
          19.8461275299201,
          34.114100970923225,
          28.51210408110101,
          15.80465324504264,
          29.889199073550905,
          23.45044384823516,
          24.299473895543237,
          15.481253249218067,
          11.741502829887237,
          32.672035048704345,
          14.262185982962835,
          41.51070945654962,
          27.60432850153581,
          21.742828290885083,
          39.55484070576707,
          20.91991067539778,
          31.50346437842722,
          18.726050290152703,
          19.32875795789301,
          31.3538678006743,
          26.79204699212244,
          18.933015184285296,
          18.488941778894013,
          40.00931159451285,
          22.018066664510894,
          27.805383202523068,
          22.983583398895057,
          21.23113605109886,
          45.48412631939449,
          38.36879881385525,
          22.512380018837558,
          32.53300295442946,
          17.939584937799403,
          25.14671576593453,
          25.73897220291734,
          27.033713365943687,
          29.378484517416798,
          27.59979660774472,
          19.23559673941051,
          38.87554686544004,
          17.08330662068703,
          9.250498945233794,
          29.80041664940296,
          23.81858552837416,
          41.5865119075734,
          36.31640516404447,
          9.705799570270935,
          50.62309820352995,
          36.025307274376544,
          13.207579410955224,
          37.612072171834825,
          15.999828333094294,
          24.086040974804074,
          17.09070228752705,
          33.934405486469124,
          18.856517897650864,
          -1.2763422707877368,
          20.60294553790248,
          15.751882919971518,
          14.833846869690042,
          15.926724780391485,
          23.00333197903162,
          40.75359993851555,
          20.490879546654803,
          8.987509025030011,
          30.9173313427412,
          37.025781445294925,
          47.6297687873507,
          27.32308771736681,
          30.746317738266157,
          24.063417416060176,
          21.04163596192851,
          25.718711168720468,
          55.29701647168527,
          9.206941606365447,
          35.97256762196151,
          21.389654268814738,
          19.337465403248757,
          33.36507435483664,
          29.78289702384588,
          32.61398476356708,
          35.59087415269309,
          31.105445410963007,
          24.46596152323027,
          29.998486935883825,
          29.756967397707825,
          34.945409041010016,
          37.71840771827386,
          36.21699821318893,
          25.59144378791352,
          29.23848608399292,
          20.92695441836697,
          33.91743011012686,
          25.603045151393967,
          8.949541314451078,
          33.18540767995487,
          16.009275924562974,
          7.604533319545695,
          17.97227987339651,
          24.574512439353462,
          39.221611114360016,
          17.227869168726826,
          31.653361439814272,
          28.302031917492485,
          30.69112682779479,
          28.906516511515257,
          44.89163581759208,
          30.2101501351832,
          22.41104901540594,
          25.72393005468697,
          35.979979526659776,
          27.05696749920051,
          32.60182703199714,
          26.539261037575145,
          10.182291639152137,
          15.428189947959652,
          28.229160641174275,
          23.401717881369184,
          32.62796273381785,
          27.82279527257553,
          41.58884594842605,
          31.90474442486329,
          26.01581059885984,
          40.015158591247086,
          28.445376709666625,
          34.42690132836544,
          18.304405495363973,
          8.483358558877278,
          20.11548744055985,
          27.74052643074803,
          21.239696153449607,
          28.9240093784809,
          32.297982673748585,
          26.10030979619102,
          13.425864143611983,
          16.491867960028053,
          28.971555004703006,
          18.411119068016472,
          30.123784514239738,
          23.4158423388373,
          17.14752015898519,
          27.07187884564259,
          37.23310734759323,
          21.76663627303002,
          35.84581749059535,
          11.76671344458546,
          20.76729236790357,
          28.80681667819404,
          27.164560446016825,
          36.21455744107118,
          31.4486858235083,
          43.46462964905336,
          29.97726714830371,
          45.21711460659981,
          18.92617163874174,
          19.352515975131908,
          9.07132608763553,
          25.13092786065339,
          21.6722418414983,
          23.03918556603349,
          5.375099257316148,
          11.432694235568874,
          19.952608959573208,
          38.55925565923757,
          37.137572778481314,
          18.005895960381327,
          33.880037522316336,
          15.938904151370147,
          20.3449543779907,
          19.139924325725485,
          24.061592670710517,
          30.102675441690863,
          19.604353025501368,
          25.33445199423949,
          26.599373827922147,
          28.610717301554526,
          18.641410660238968,
          16.164102363596356,
          29.33035069863633,
          18.694046790501005,
          31.078001702949308,
          32.22306642499145,
          32.89002329754521,
          15.064770209462452,
          16.939333194927823,
          38.0581842964524,
          25.288130298930888,
          15.42500761409642,
          29.719016053546504,
          30.9566440827208,
          47.22793229235543,
          21.56172247870862,
          32.842316984061576,
          25.34898174182764,
          12.224150503685529,
          23.38897943693299,
          22.0560552428168,
          23.276651557676622,
          26.738066063925174,
          32.50179708579269,
          40.59076700124609,
          25.10900501043084,
          38.01857641663524,
          27.541037613294943,
          20.40135335496631,
          30.770226297980507,
          8.065610749372691,
          30.207250633682055,
          32.655651998486626,
          9.14370511413354,
          37.30238921579037,
          34.29649186798952,
          22.613373033168877,
          41.62325747754015,
          23.597526987521867,
          4.609665829073762,
          19.22599907466645,
          41.99646505053144,
          40.37845604852556,
          27.208718621577223,
          36.13363224066256,
          17.158297456645876,
          18.17155381831681,
          40.6364774785212,
          24.324334130300237,
          33.08160116356225,
          27.616211852521097,
          37.1198357962084,
          27.619552154007607,
          22.01896957619032,
          13.413821859684996,
          22.28081205912673,
          28.963276410678112,
          17.47645670667604,
          18.44810564526061,
          8.67723419428858,
          37.65517655037453,
          14.82847616875842,
          16.877960869113906,
          35.667292703274924,
          32.152417042525826,
          34.18561683454314,
          24.24239382347289,
          34.45731216982409,
          37.11021101532811,
          40.05299355189688,
          38.54010298918272,
          28.826175503874254,
          24.364535663210727,
          28.07069319039706,
          21.058749261022992,
          37.61209352256426,
          28.26423894986986,
          25.89685225771755,
          13.3954028887,
          30.00187789665391,
          26.94973641384365,
          40.83375976102477,
          25.28793948867826,
          43.24708197964426,
          12.158176318486936,
          39.51876961505498,
          26.894982703493326,
          24.2848977621023,
          26.56989701538955,
          22.465116905506072,
          19.2989958087554,
          24.13476113812557,
          17.097052912360276,
          24.468940660651544,
          17.142840970462295,
          33.87292023355865,
          31.25988679090134,
          14.44207777870464,
          28.197353262901025,
          25.473518571781234,
          29.90301566796133,
          17.14190376764331,
          24.339476287186297,
          44.58098747717285,
          25.32318858146258,
          31.891581733044266,
          28.34933112003717,
          17.481402720438446,
          17.947863635459562,
          32.73699831055363,
          47.09175855184464,
          17.598961600588538,
          18.59240448001164,
          27.28541527038627,
          30.27357281033357,
          24.236274574157203,
          33.29030102283231,
          52.85914566419412,
          32.67293142783152,
          16.70901158577768,
          42.523806607645255,
          23.810729767215665,
          22.66619692178381,
          23.44810510474917,
          38.5941411115931,
          24.90535181363041,
          32.23520161362671,
          34.18198471903715,
          39.34635293963497,
          32.99892306563706,
          24.52033697503542,
          33.57625683288028,
          25.7585842295305,
          16.134437202078217,
          26.75308522604177,
          26.209702914697555,
          30.3488828052528,
          37.96474236132949,
          17.043749835730488,
          23.70041035285972,
          24.06077463585549,
          28.346070204485205,
          31.538619685802527,
          31.490077147152284,
          22.561767352916974,
          26.781740988644124,
          28.946381969376688,
          28.09615538482768,
          18.2513411803208,
          29.935848035085968,
          35.037965015560026,
          31.75956971863936,
          47.0075590451896,
          12.599587729632328,
          29.971033121663805,
          24.120305139951267,
          44.84956608335512,
          15.178783479416555,
          20.298036858574168,
          18.42072461821027,
          19.93184771991499,
          32.96955128378515,
          28.9229164007443,
          11.372365365890523,
          21.94164077128801,
          12.030859721848184,
          27.837350757896576,
          9.944499630133382,
          24.515070577140825,
          21.15740189026119,
          23.29034488258487,
          32.466222916888825,
          12.012883240125234,
          8.97573977122942,
          18.8819571146938,
          37.78871523910699,
          21.64385524429418,
          34.253334041770046,
          35.220511080641444,
          5.35307590099934,
          8.76162918076404,
          39.29248921091152,
          18.292492612626813,
          37.38570394797779,
          31.580182238001267
         ],
         "yaxis": "y"
        }
       ],
       "layout": {
        "coloraxis": {
         "colorbar": {
          "title": {
           "text": "color"
          }
         },
         "colorscale": [
          [
           0,
           "#0d0887"
          ],
          [
           0.1111111111111111,
           "#46039f"
          ],
          [
           0.2222222222222222,
           "#7201a8"
          ],
          [
           0.3333333333333333,
           "#9c179e"
          ],
          [
           0.4444444444444444,
           "#bd3786"
          ],
          [
           0.5555555555555556,
           "#d8576b"
          ],
          [
           0.6666666666666666,
           "#ed7953"
          ],
          [
           0.7777777777777778,
           "#fb9f3a"
          ],
          [
           0.8888888888888888,
           "#fdca26"
          ],
          [
           1,
           "#f0f921"
          ]
         ]
        },
        "legend": {
         "tracegroupgap": 0
        },
        "margin": {
         "t": 60
        },
        "template": {
         "data": {
          "bar": [
           {
            "error_x": {
             "color": "#2a3f5f"
            },
            "error_y": {
             "color": "#2a3f5f"
            },
            "marker": {
             "line": {
              "color": "white",
              "width": 0.5
             },
             "pattern": {
              "fillmode": "overlay",
              "size": 10,
              "solidity": 0.2
             }
            },
            "type": "bar"
           }
          ],
          "barpolar": [
           {
            "marker": {
             "line": {
              "color": "white",
              "width": 0.5
             },
             "pattern": {
              "fillmode": "overlay",
              "size": 10,
              "solidity": 0.2
             }
            },
            "type": "barpolar"
           }
          ],
          "carpet": [
           {
            "aaxis": {
             "endlinecolor": "#2a3f5f",
             "gridcolor": "#C8D4E3",
             "linecolor": "#C8D4E3",
             "minorgridcolor": "#C8D4E3",
             "startlinecolor": "#2a3f5f"
            },
            "baxis": {
             "endlinecolor": "#2a3f5f",
             "gridcolor": "#C8D4E3",
             "linecolor": "#C8D4E3",
             "minorgridcolor": "#C8D4E3",
             "startlinecolor": "#2a3f5f"
            },
            "type": "carpet"
           }
          ],
          "choropleth": [
           {
            "colorbar": {
             "outlinewidth": 0,
             "ticks": ""
            },
            "type": "choropleth"
           }
          ],
          "contour": [
           {
            "colorbar": {
             "outlinewidth": 0,
             "ticks": ""
            },
            "colorscale": [
             [
              0,
              "#0d0887"
             ],
             [
              0.1111111111111111,
              "#46039f"
             ],
             [
              0.2222222222222222,
              "#7201a8"
             ],
             [
              0.3333333333333333,
              "#9c179e"
             ],
             [
              0.4444444444444444,
              "#bd3786"
             ],
             [
              0.5555555555555556,
              "#d8576b"
             ],
             [
              0.6666666666666666,
              "#ed7953"
             ],
             [
              0.7777777777777778,
              "#fb9f3a"
             ],
             [
              0.8888888888888888,
              "#fdca26"
             ],
             [
              1,
              "#f0f921"
             ]
            ],
            "type": "contour"
           }
          ],
          "contourcarpet": [
           {
            "colorbar": {
             "outlinewidth": 0,
             "ticks": ""
            },
            "type": "contourcarpet"
           }
          ],
          "heatmap": [
           {
            "colorbar": {
             "outlinewidth": 0,
             "ticks": ""
            },
            "colorscale": [
             [
              0,
              "#0d0887"
             ],
             [
              0.1111111111111111,
              "#46039f"
             ],
             [
              0.2222222222222222,
              "#7201a8"
             ],
             [
              0.3333333333333333,
              "#9c179e"
             ],
             [
              0.4444444444444444,
              "#bd3786"
             ],
             [
              0.5555555555555556,
              "#d8576b"
             ],
             [
              0.6666666666666666,
              "#ed7953"
             ],
             [
              0.7777777777777778,
              "#fb9f3a"
             ],
             [
              0.8888888888888888,
              "#fdca26"
             ],
             [
              1,
              "#f0f921"
             ]
            ],
            "type": "heatmap"
           }
          ],
          "heatmapgl": [
           {
            "colorbar": {
             "outlinewidth": 0,
             "ticks": ""
            },
            "colorscale": [
             [
              0,
              "#0d0887"
             ],
             [
              0.1111111111111111,
              "#46039f"
             ],
             [
              0.2222222222222222,
              "#7201a8"
             ],
             [
              0.3333333333333333,
              "#9c179e"
             ],
             [
              0.4444444444444444,
              "#bd3786"
             ],
             [
              0.5555555555555556,
              "#d8576b"
             ],
             [
              0.6666666666666666,
              "#ed7953"
             ],
             [
              0.7777777777777778,
              "#fb9f3a"
             ],
             [
              0.8888888888888888,
              "#fdca26"
             ],
             [
              1,
              "#f0f921"
             ]
            ],
            "type": "heatmapgl"
           }
          ],
          "histogram": [
           {
            "marker": {
             "pattern": {
              "fillmode": "overlay",
              "size": 10,
              "solidity": 0.2
             }
            },
            "type": "histogram"
           }
          ],
          "histogram2d": [
           {
            "colorbar": {
             "outlinewidth": 0,
             "ticks": ""
            },
            "colorscale": [
             [
              0,
              "#0d0887"
             ],
             [
              0.1111111111111111,
              "#46039f"
             ],
             [
              0.2222222222222222,
              "#7201a8"
             ],
             [
              0.3333333333333333,
              "#9c179e"
             ],
             [
              0.4444444444444444,
              "#bd3786"
             ],
             [
              0.5555555555555556,
              "#d8576b"
             ],
             [
              0.6666666666666666,
              "#ed7953"
             ],
             [
              0.7777777777777778,
              "#fb9f3a"
             ],
             [
              0.8888888888888888,
              "#fdca26"
             ],
             [
              1,
              "#f0f921"
             ]
            ],
            "type": "histogram2d"
           }
          ],
          "histogram2dcontour": [
           {
            "colorbar": {
             "outlinewidth": 0,
             "ticks": ""
            },
            "colorscale": [
             [
              0,
              "#0d0887"
             ],
             [
              0.1111111111111111,
              "#46039f"
             ],
             [
              0.2222222222222222,
              "#7201a8"
             ],
             [
              0.3333333333333333,
              "#9c179e"
             ],
             [
              0.4444444444444444,
              "#bd3786"
             ],
             [
              0.5555555555555556,
              "#d8576b"
             ],
             [
              0.6666666666666666,
              "#ed7953"
             ],
             [
              0.7777777777777778,
              "#fb9f3a"
             ],
             [
              0.8888888888888888,
              "#fdca26"
             ],
             [
              1,
              "#f0f921"
             ]
            ],
            "type": "histogram2dcontour"
           }
          ],
          "mesh3d": [
           {
            "colorbar": {
             "outlinewidth": 0,
             "ticks": ""
            },
            "type": "mesh3d"
           }
          ],
          "parcoords": [
           {
            "line": {
             "colorbar": {
              "outlinewidth": 0,
              "ticks": ""
             }
            },
            "type": "parcoords"
           }
          ],
          "pie": [
           {
            "automargin": true,
            "type": "pie"
           }
          ],
          "scatter": [
           {
            "fillpattern": {
             "fillmode": "overlay",
             "size": 10,
             "solidity": 0.2
            },
            "type": "scatter"
           }
          ],
          "scatter3d": [
           {
            "line": {
             "colorbar": {
              "outlinewidth": 0,
              "ticks": ""
             }
            },
            "marker": {
             "colorbar": {
              "outlinewidth": 0,
              "ticks": ""
             }
            },
            "type": "scatter3d"
           }
          ],
          "scattercarpet": [
           {
            "marker": {
             "colorbar": {
              "outlinewidth": 0,
              "ticks": ""
             }
            },
            "type": "scattercarpet"
           }
          ],
          "scattergeo": [
           {
            "marker": {
             "colorbar": {
              "outlinewidth": 0,
              "ticks": ""
             }
            },
            "type": "scattergeo"
           }
          ],
          "scattergl": [
           {
            "marker": {
             "colorbar": {
              "outlinewidth": 0,
              "ticks": ""
             }
            },
            "type": "scattergl"
           }
          ],
          "scattermapbox": [
           {
            "marker": {
             "colorbar": {
              "outlinewidth": 0,
              "ticks": ""
             }
            },
            "type": "scattermapbox"
           }
          ],
          "scatterpolar": [
           {
            "marker": {
             "colorbar": {
              "outlinewidth": 0,
              "ticks": ""
             }
            },
            "type": "scatterpolar"
           }
          ],
          "scatterpolargl": [
           {
            "marker": {
             "colorbar": {
              "outlinewidth": 0,
              "ticks": ""
             }
            },
            "type": "scatterpolargl"
           }
          ],
          "scatterternary": [
           {
            "marker": {
             "colorbar": {
              "outlinewidth": 0,
              "ticks": ""
             }
            },
            "type": "scatterternary"
           }
          ],
          "surface": [
           {
            "colorbar": {
             "outlinewidth": 0,
             "ticks": ""
            },
            "colorscale": [
             [
              0,
              "#0d0887"
             ],
             [
              0.1111111111111111,
              "#46039f"
             ],
             [
              0.2222222222222222,
              "#7201a8"
             ],
             [
              0.3333333333333333,
              "#9c179e"
             ],
             [
              0.4444444444444444,
              "#bd3786"
             ],
             [
              0.5555555555555556,
              "#d8576b"
             ],
             [
              0.6666666666666666,
              "#ed7953"
             ],
             [
              0.7777777777777778,
              "#fb9f3a"
             ],
             [
              0.8888888888888888,
              "#fdca26"
             ],
             [
              1,
              "#f0f921"
             ]
            ],
            "type": "surface"
           }
          ],
          "table": [
           {
            "cells": {
             "fill": {
              "color": "#EBF0F8"
             },
             "line": {
              "color": "white"
             }
            },
            "header": {
             "fill": {
              "color": "#C8D4E3"
             },
             "line": {
              "color": "white"
             }
            },
            "type": "table"
           }
          ]
         },
         "layout": {
          "annotationdefaults": {
           "arrowcolor": "#2a3f5f",
           "arrowhead": 0,
           "arrowwidth": 1
          },
          "autotypenumbers": "strict",
          "coloraxis": {
           "colorbar": {
            "outlinewidth": 0,
            "ticks": ""
           }
          },
          "colorscale": {
           "diverging": [
            [
             0,
             "#8e0152"
            ],
            [
             0.1,
             "#c51b7d"
            ],
            [
             0.2,
             "#de77ae"
            ],
            [
             0.3,
             "#f1b6da"
            ],
            [
             0.4,
             "#fde0ef"
            ],
            [
             0.5,
             "#f7f7f7"
            ],
            [
             0.6,
             "#e6f5d0"
            ],
            [
             0.7,
             "#b8e186"
            ],
            [
             0.8,
             "#7fbc41"
            ],
            [
             0.9,
             "#4d9221"
            ],
            [
             1,
             "#276419"
            ]
           ],
           "sequential": [
            [
             0,
             "#0d0887"
            ],
            [
             0.1111111111111111,
             "#46039f"
            ],
            [
             0.2222222222222222,
             "#7201a8"
            ],
            [
             0.3333333333333333,
             "#9c179e"
            ],
            [
             0.4444444444444444,
             "#bd3786"
            ],
            [
             0.5555555555555556,
             "#d8576b"
            ],
            [
             0.6666666666666666,
             "#ed7953"
            ],
            [
             0.7777777777777778,
             "#fb9f3a"
            ],
            [
             0.8888888888888888,
             "#fdca26"
            ],
            [
             1,
             "#f0f921"
            ]
           ],
           "sequentialminus": [
            [
             0,
             "#0d0887"
            ],
            [
             0.1111111111111111,
             "#46039f"
            ],
            [
             0.2222222222222222,
             "#7201a8"
            ],
            [
             0.3333333333333333,
             "#9c179e"
            ],
            [
             0.4444444444444444,
             "#bd3786"
            ],
            [
             0.5555555555555556,
             "#d8576b"
            ],
            [
             0.6666666666666666,
             "#ed7953"
            ],
            [
             0.7777777777777778,
             "#fb9f3a"
            ],
            [
             0.8888888888888888,
             "#fdca26"
            ],
            [
             1,
             "#f0f921"
            ]
           ]
          },
          "colorway": [
           "#636efa",
           "#EF553B",
           "#00cc96",
           "#ab63fa",
           "#FFA15A",
           "#19d3f3",
           "#FF6692",
           "#B6E880",
           "#FF97FF",
           "#FECB52"
          ],
          "font": {
           "color": "#2a3f5f"
          },
          "geo": {
           "bgcolor": "white",
           "lakecolor": "white",
           "landcolor": "white",
           "showlakes": true,
           "showland": true,
           "subunitcolor": "#C8D4E3"
          },
          "hoverlabel": {
           "align": "left"
          },
          "hovermode": "closest",
          "mapbox": {
           "style": "light"
          },
          "paper_bgcolor": "white",
          "plot_bgcolor": "white",
          "polar": {
           "angularaxis": {
            "gridcolor": "#EBF0F8",
            "linecolor": "#EBF0F8",
            "ticks": ""
           },
           "bgcolor": "white",
           "radialaxis": {
            "gridcolor": "#EBF0F8",
            "linecolor": "#EBF0F8",
            "ticks": ""
           }
          },
          "scene": {
           "xaxis": {
            "backgroundcolor": "white",
            "gridcolor": "#DFE8F3",
            "gridwidth": 2,
            "linecolor": "#EBF0F8",
            "showbackground": true,
            "ticks": "",
            "zerolinecolor": "#EBF0F8"
           },
           "yaxis": {
            "backgroundcolor": "white",
            "gridcolor": "#DFE8F3",
            "gridwidth": 2,
            "linecolor": "#EBF0F8",
            "showbackground": true,
            "ticks": "",
            "zerolinecolor": "#EBF0F8"
           },
           "zaxis": {
            "backgroundcolor": "white",
            "gridcolor": "#DFE8F3",
            "gridwidth": 2,
            "linecolor": "#EBF0F8",
            "showbackground": true,
            "ticks": "",
            "zerolinecolor": "#EBF0F8"
           }
          },
          "shapedefaults": {
           "line": {
            "color": "#2a3f5f"
           }
          },
          "ternary": {
           "aaxis": {
            "gridcolor": "#DFE8F3",
            "linecolor": "#A2B1C6",
            "ticks": ""
           },
           "baxis": {
            "gridcolor": "#DFE8F3",
            "linecolor": "#A2B1C6",
            "ticks": ""
           },
           "bgcolor": "white",
           "caxis": {
            "gridcolor": "#DFE8F3",
            "linecolor": "#A2B1C6",
            "ticks": ""
           }
          },
          "title": {
           "x": 0.05
          },
          "xaxis": {
           "automargin": true,
           "gridcolor": "#EBF0F8",
           "linecolor": "#EBF0F8",
           "ticks": "",
           "title": {
            "standoff": 15
           },
           "zerolinecolor": "#EBF0F8",
           "zerolinewidth": 2
          },
          "yaxis": {
           "automargin": true,
           "gridcolor": "#EBF0F8",
           "linecolor": "#EBF0F8",
           "ticks": "",
           "title": {
            "standoff": 15
           },
           "zerolinecolor": "#EBF0F8",
           "zerolinewidth": 2
          }
         }
        },
        "title": {
         "text": "Salário por Experiência"
        },
        "xaxis": {
         "anchor": "y",
         "domain": [
          0,
          1
         ],
         "title": {
          "text": "Experiência"
         }
        },
        "yaxis": {
         "anchor": "x",
         "domain": [
          0,
          1
         ],
         "title": {
          "text": "Salário"
         }
        }
       }
      }
     },
     "metadata": {},
     "output_type": "display_data"
    }
   ],
   "source": [
    "grafico_clustercli = px.scatter(x=df_merge[\"Exp\"],\n",
    "                                y=df_merge[\"Salary\"],\n",
    "                                color=df_merge[\"cluster\"]\n",
    "                                )\n",
    "\n",
    "fig = go.Figure(grafico_clustercli)\n",
    "fig.update_layout(title=\"Salário por Experiência\",\n",
    "                  xaxis_title=\"Experiência\",\n",
    "                  yaxis_title=\"Salário\",\n",
    "                  template=\"plotly_white\")"
   ]
  },
  {
   "cell_type": "code",
   "execution_count": 30,
   "metadata": {},
   "outputs": [
    {
     "name": "stderr",
     "output_type": "stream",
     "text": [
      "C:\\Users\\mathe\\AppData\\Local\\Temp\\ipykernel_5224\\2449942858.py:1: FutureWarning:\n",
      "\n",
      "Setting an item of incompatible dtype is deprecated and will raise in a future error of pandas. Value 'Iniciante' has dtype incompatible with int32, please explicitly cast to a compatible dtype first.\n",
      "\n"
     ]
    }
   ],
   "source": [
    "df_merge.loc[df_merge[\"cluster\"] == 0, \"cluster\"] = \"Iniciante\"\n",
    "df_merge.loc[df_merge[\"cluster\"] == 2, \"cluster\"] = \"Intermediario\"\n",
    "df_merge.loc[df_merge[\"cluster\"] == 1, \"cluster\"] = \"Avancado\""
   ]
  },
  {
   "cell_type": "code",
   "execution_count": 31,
   "metadata": {},
   "outputs": [
    {
     "data": {
      "text/html": [
       "<div>\n",
       "<style scoped>\n",
       "    .dataframe tbody tr th:only-of-type {\n",
       "        vertical-align: middle;\n",
       "    }\n",
       "\n",
       "    .dataframe tbody tr th {\n",
       "        vertical-align: top;\n",
       "    }\n",
       "\n",
       "    .dataframe thead th {\n",
       "        text-align: right;\n",
       "    }\n",
       "</style>\n",
       "<table border=\"1\" class=\"dataframe\">\n",
       "  <thead>\n",
       "    <tr style=\"text-align: right;\">\n",
       "      <th></th>\n",
       "      <th>count</th>\n",
       "      <th>mean</th>\n",
       "      <th>std</th>\n",
       "      <th>min</th>\n",
       "      <th>25%</th>\n",
       "      <th>50%</th>\n",
       "      <th>75%</th>\n",
       "      <th>max</th>\n",
       "    </tr>\n",
       "    <tr>\n",
       "      <th>cluster</th>\n",
       "      <th></th>\n",
       "      <th></th>\n",
       "      <th></th>\n",
       "      <th></th>\n",
       "      <th></th>\n",
       "      <th></th>\n",
       "      <th></th>\n",
       "      <th></th>\n",
       "    </tr>\n",
       "  </thead>\n",
       "  <tbody>\n",
       "    <tr>\n",
       "      <th>Avancado</th>\n",
       "      <td>152.0</td>\n",
       "      <td>167.342105</td>\n",
       "      <td>36.742906</td>\n",
       "      <td>102.0</td>\n",
       "      <td>141.75</td>\n",
       "      <td>164.0</td>\n",
       "      <td>198.25</td>\n",
       "      <td>235.0</td>\n",
       "    </tr>\n",
       "    <tr>\n",
       "      <th>Iniciante</th>\n",
       "      <td>147.0</td>\n",
       "      <td>170.428571</td>\n",
       "      <td>40.209383</td>\n",
       "      <td>102.0</td>\n",
       "      <td>135.00</td>\n",
       "      <td>169.0</td>\n",
       "      <td>206.50</td>\n",
       "      <td>235.0</td>\n",
       "    </tr>\n",
       "    <tr>\n",
       "      <th>Intermediario</th>\n",
       "      <td>248.0</td>\n",
       "      <td>172.330645</td>\n",
       "      <td>39.964199</td>\n",
       "      <td>102.0</td>\n",
       "      <td>133.75</td>\n",
       "      <td>173.5</td>\n",
       "      <td>211.00</td>\n",
       "      <td>234.0</td>\n",
       "    </tr>\n",
       "  </tbody>\n",
       "</table>\n",
       "</div>"
      ],
      "text/plain": [
       "               count        mean        std    min     25%    50%     75%  \\\n",
       "cluster                                                                     \n",
       "Avancado       152.0  167.342105  36.742906  102.0  141.75  164.0  198.25   \n",
       "Iniciante      147.0  170.428571  40.209383  102.0  135.00  169.0  206.50   \n",
       "Intermediario  248.0  172.330645  39.964199  102.0  133.75  173.5  211.00   \n",
       "\n",
       "                 max  \n",
       "cluster               \n",
       "Avancado       235.0  \n",
       "Iniciante      235.0  \n",
       "Intermediario  234.0  "
      ]
     },
     "execution_count": 31,
     "metadata": {},
     "output_type": "execute_result"
    }
   ],
   "source": [
    "df_merge.groupby(\"cluster\")[\"colesterol\"].describe()"
   ]
  },
  {
   "cell_type": "code",
   "execution_count": 35,
   "metadata": {},
   "outputs": [],
   "source": [
    "df_fem_total = df_merge.query(\"genero == 'Feminino'\")"
   ]
  },
  {
   "cell_type": "code",
   "execution_count": 38,
   "metadata": {},
   "outputs": [
    {
     "data": {
      "text/html": [
       "<div>\n",
       "<style scoped>\n",
       "    .dataframe tbody tr th:only-of-type {\n",
       "        vertical-align: middle;\n",
       "    }\n",
       "\n",
       "    .dataframe tbody tr th {\n",
       "        vertical-align: top;\n",
       "    }\n",
       "\n",
       "    .dataframe thead th {\n",
       "        text-align: right;\n",
       "    }\n",
       "</style>\n",
       "<table border=\"1\" class=\"dataframe\">\n",
       "  <thead>\n",
       "    <tr style=\"text-align: right;\">\n",
       "      <th></th>\n",
       "      <th>id_cliente</th>\n",
       "      <th>idade</th>\n",
       "      <th>peso</th>\n",
       "      <th>colesterol</th>\n",
       "      <th>genero</th>\n",
       "      <th>id_estado</th>\n",
       "      <th>estado</th>\n",
       "      <th>sigla_estado</th>\n",
       "      <th>pais</th>\n",
       "      <th>Exp</th>\n",
       "      <th>Salary</th>\n",
       "      <th>cluster</th>\n",
       "    </tr>\n",
       "  </thead>\n",
       "  <tbody>\n",
       "    <tr>\n",
       "      <th>2</th>\n",
       "      <td>61</td>\n",
       "      <td>70</td>\n",
       "      <td>113.0</td>\n",
       "      <td>129</td>\n",
       "      <td>Feminino</td>\n",
       "      <td>23</td>\n",
       "      <td>Roraima</td>\n",
       "      <td>RR</td>\n",
       "      <td>Brasil</td>\n",
       "      <td>17.060087</td>\n",
       "      <td>12.949522</td>\n",
       "      <td>Iniciante</td>\n",
       "    </tr>\n",
       "    <tr>\n",
       "      <th>4</th>\n",
       "      <td>154</td>\n",
       "      <td>26</td>\n",
       "      <td>134.0</td>\n",
       "      <td>162</td>\n",
       "      <td>Feminino</td>\n",
       "      <td>23</td>\n",
       "      <td>Roraima</td>\n",
       "      <td>RR</td>\n",
       "      <td>Brasil</td>\n",
       "      <td>16.021363</td>\n",
       "      <td>15.872766</td>\n",
       "      <td>Iniciante</td>\n",
       "    </tr>\n",
       "    <tr>\n",
       "      <th>5</th>\n",
       "      <td>164</td>\n",
       "      <td>51</td>\n",
       "      <td>133.0</td>\n",
       "      <td>155</td>\n",
       "      <td>Feminino</td>\n",
       "      <td>23</td>\n",
       "      <td>Roraima</td>\n",
       "      <td>RR</td>\n",
       "      <td>Brasil</td>\n",
       "      <td>32.603622</td>\n",
       "      <td>36.105138</td>\n",
       "      <td>Avancado</td>\n",
       "    </tr>\n",
       "    <tr>\n",
       "      <th>8</th>\n",
       "      <td>204</td>\n",
       "      <td>21</td>\n",
       "      <td>125.0</td>\n",
       "      <td>148</td>\n",
       "      <td>Feminino</td>\n",
       "      <td>23</td>\n",
       "      <td>Roraima</td>\n",
       "      <td>RR</td>\n",
       "      <td>Brasil</td>\n",
       "      <td>27.261238</td>\n",
       "      <td>36.270241</td>\n",
       "      <td>Avancado</td>\n",
       "    </tr>\n",
       "    <tr>\n",
       "      <th>10</th>\n",
       "      <td>310</td>\n",
       "      <td>45</td>\n",
       "      <td>127.0</td>\n",
       "      <td>152</td>\n",
       "      <td>Feminino</td>\n",
       "      <td>23</td>\n",
       "      <td>Roraima</td>\n",
       "      <td>RR</td>\n",
       "      <td>Brasil</td>\n",
       "      <td>15.095317</td>\n",
       "      <td>12.707029</td>\n",
       "      <td>Iniciante</td>\n",
       "    </tr>\n",
       "    <tr>\n",
       "      <th>...</th>\n",
       "      <td>...</td>\n",
       "      <td>...</td>\n",
       "      <td>...</td>\n",
       "      <td>...</td>\n",
       "      <td>...</td>\n",
       "      <td>...</td>\n",
       "      <td>...</td>\n",
       "      <td>...</td>\n",
       "      <td>...</td>\n",
       "      <td>...</td>\n",
       "      <td>...</td>\n",
       "      <td>...</td>\n",
       "    </tr>\n",
       "    <tr>\n",
       "      <th>533</th>\n",
       "      <td>304</td>\n",
       "      <td>22</td>\n",
       "      <td>158.0</td>\n",
       "      <td>193</td>\n",
       "      <td>Feminino</td>\n",
       "      <td>19</td>\n",
       "      <td>Rio de Janeiro</td>\n",
       "      <td>RJ</td>\n",
       "      <td>Brasil</td>\n",
       "      <td>34.822677</td>\n",
       "      <td>32.466223</td>\n",
       "      <td>Avancado</td>\n",
       "    </tr>\n",
       "    <tr>\n",
       "      <th>536</th>\n",
       "      <td>333</td>\n",
       "      <td>27</td>\n",
       "      <td>101.0</td>\n",
       "      <td>112</td>\n",
       "      <td>Feminino</td>\n",
       "      <td>19</td>\n",
       "      <td>Rio de Janeiro</td>\n",
       "      <td>RJ</td>\n",
       "      <td>Brasil</td>\n",
       "      <td>10.781589</td>\n",
       "      <td>18.881957</td>\n",
       "      <td>Iniciante</td>\n",
       "    </tr>\n",
       "    <tr>\n",
       "      <th>542</th>\n",
       "      <td>452</td>\n",
       "      <td>61</td>\n",
       "      <td>117.0</td>\n",
       "      <td>138</td>\n",
       "      <td>Feminino</td>\n",
       "      <td>19</td>\n",
       "      <td>Rio de Janeiro</td>\n",
       "      <td>RJ</td>\n",
       "      <td>Brasil</td>\n",
       "      <td>15.732876</td>\n",
       "      <td>8.761629</td>\n",
       "      <td>Iniciante</td>\n",
       "    </tr>\n",
       "    <tr>\n",
       "      <th>544</th>\n",
       "      <td>510</td>\n",
       "      <td>48</td>\n",
       "      <td>110.0</td>\n",
       "      <td>120</td>\n",
       "      <td>Feminino</td>\n",
       "      <td>19</td>\n",
       "      <td>Rio de Janeiro</td>\n",
       "      <td>RJ</td>\n",
       "      <td>Brasil</td>\n",
       "      <td>9.857476</td>\n",
       "      <td>18.292493</td>\n",
       "      <td>Iniciante</td>\n",
       "    </tr>\n",
       "    <tr>\n",
       "      <th>545</th>\n",
       "      <td>516</td>\n",
       "      <td>47</td>\n",
       "      <td>166.0</td>\n",
       "      <td>200</td>\n",
       "      <td>Feminino</td>\n",
       "      <td>19</td>\n",
       "      <td>Rio de Janeiro</td>\n",
       "      <td>RJ</td>\n",
       "      <td>Brasil</td>\n",
       "      <td>28.656208</td>\n",
       "      <td>37.385704</td>\n",
       "      <td>Avancado</td>\n",
       "    </tr>\n",
       "  </tbody>\n",
       "</table>\n",
       "<p>266 rows × 12 columns</p>\n",
       "</div>"
      ],
      "text/plain": [
       "     id_cliente  idade   peso  colesterol    genero  id_estado  \\\n",
       "2            61     70  113.0         129  Feminino         23   \n",
       "4           154     26  134.0         162  Feminino         23   \n",
       "5           164     51  133.0         155  Feminino         23   \n",
       "8           204     21  125.0         148  Feminino         23   \n",
       "10          310     45  127.0         152  Feminino         23   \n",
       "..          ...    ...    ...         ...       ...        ...   \n",
       "533         304     22  158.0         193  Feminino         19   \n",
       "536         333     27  101.0         112  Feminino         19   \n",
       "542         452     61  117.0         138  Feminino         19   \n",
       "544         510     48  110.0         120  Feminino         19   \n",
       "545         516     47  166.0         200  Feminino         19   \n",
       "\n",
       "             estado sigla_estado    pais        Exp     Salary    cluster  \n",
       "2           Roraima           RR  Brasil  17.060087  12.949522  Iniciante  \n",
       "4           Roraima           RR  Brasil  16.021363  15.872766  Iniciante  \n",
       "5           Roraima           RR  Brasil  32.603622  36.105138   Avancado  \n",
       "8           Roraima           RR  Brasil  27.261238  36.270241   Avancado  \n",
       "10          Roraima           RR  Brasil  15.095317  12.707029  Iniciante  \n",
       "..              ...          ...     ...        ...        ...        ...  \n",
       "533  Rio de Janeiro           RJ  Brasil  34.822677  32.466223   Avancado  \n",
       "536  Rio de Janeiro           RJ  Brasil  10.781589  18.881957  Iniciante  \n",
       "542  Rio de Janeiro           RJ  Brasil  15.732876   8.761629  Iniciante  \n",
       "544  Rio de Janeiro           RJ  Brasil   9.857476  18.292493  Iniciante  \n",
       "545  Rio de Janeiro           RJ  Brasil  28.656208  37.385704   Avancado  \n",
       "\n",
       "[266 rows x 12 columns]"
      ]
     },
     "execution_count": 38,
     "metadata": {},
     "output_type": "execute_result"
    }
   ],
   "source": [
    "df_fem_total"
   ]
  },
  {
   "cell_type": "code",
   "execution_count": 42,
   "metadata": {},
   "outputs": [
    {
     "data": {
      "application/vnd.plotly.v1+json": {
       "config": {
        "plotlyServerURL": "https://plot.ly"
       },
       "data": [
        {
         "alignmentgroup": "True",
         "hovertemplate": "cluster=Iniciante<br>Salary=%{y}<extra></extra>",
         "legendgroup": "Iniciante",
         "marker": {
          "color": "#636efa"
         },
         "name": "Iniciante",
         "notched": false,
         "offsetgroup": "Iniciante",
         "orientation": "v",
         "showlegend": true,
         "type": "box",
         "x0": " ",
         "xaxis": "x",
         "y": [
          12.949522358784982,
          15.872766147708498,
          12.707029215575988,
          25.992450412122185,
          17.85394258188802,
          18.686990018434678,
          14.40036501076782,
          20.87714542347941,
          13.956590358118014,
          14.63167921699505,
          17.553279316976045,
          21.84910721360477,
          13.81635899669437,
          14.741576427303434,
          14.010703891163203,
          11.283107537593628,
          7.903429572340681,
          20.19090958136516,
          13.74884868915766,
          10.642280115867504,
          19.01459700369354,
          18.07789157735513,
          15.936251422369716,
          12.898193002195573,
          15.80465324504264,
          23.45044384823516,
          15.481253249218067,
          20.91991067539778,
          17.08330662068703,
          9.250498945233794,
          13.207579410955224,
          17.09070228752705,
          -1.2763422707877368,
          14.833846869690042,
          15.926724780391485,
          24.063417416060176,
          9.206941606365447,
          19.337465403248757,
          8.949541314451078,
          16.009275924562974,
          7.604533319545695,
          10.182291639152137,
          18.304405495363973,
          8.483358558877278,
          17.14752015898519,
          11.76671344458546,
          19.352515975131908,
          9.07132608763553,
          21.6722418414983,
          5.375099257316148,
          19.604353025501368,
          16.164102363596356,
          15.064770209462452,
          15.42500761409642,
          20.40135335496631,
          8.065610749372691,
          9.14370511413354,
          19.22599907466645,
          17.158297456645876,
          18.17155381831681,
          13.413821859684996,
          12.158176318486936,
          17.097052912360276,
          14.44207777870464,
          17.14190376764331,
          17.481402720438446,
          17.598961600588538,
          16.70901158577768,
          24.52033697503542,
          16.134437202078217,
          17.043749835730488,
          18.2513411803208,
          20.298036858574168,
          11.372365365890523,
          9.944499630133382,
          18.8819571146938,
          8.76162918076404,
          18.292492612626813
         ],
         "y0": " ",
         "yaxis": "y"
        },
        {
         "alignmentgroup": "True",
         "hovertemplate": "cluster=Avancado<br>Salary=%{y}<extra></extra>",
         "legendgroup": "Avancado",
         "marker": {
          "color": "#EF553B"
         },
         "name": "Avancado",
         "notched": false,
         "offsetgroup": "Avancado",
         "orientation": "v",
         "showlegend": true,
         "type": "box",
         "x0": " ",
         "xaxis": "x",
         "y": [
          36.10513811045829,
          36.27024141979025,
          38.31997429331083,
          35.897076282573735,
          36.78557329417792,
          41.75052922139716,
          39.625527267796144,
          41.464667055266816,
          43.57546555285239,
          36.48221992561083,
          31.110424050404184,
          32.976208270036274,
          34.390143634971906,
          32.69100986346763,
          47.21657054618716,
          30.814717169988047,
          34.293158741317825,
          33.15946112615957,
          32.867209584940255,
          32.032652899109856,
          40.982804168842655,
          42.97365266340642,
          33.34363003447438,
          26.128318972151902,
          36.15596229613463,
          31.15957048955322,
          32.85066496258241,
          37.999267085225824,
          40.68096948262986,
          38.74316342638873,
          38.24687555984163,
          34.114100970923225,
          39.55484070576707,
          40.00931159451285,
          45.48412631939449,
          38.36879881385525,
          32.53300295442946,
          36.31640516404447,
          37.612072171834825,
          33.934405486469124,
          40.75359993851555,
          32.61398476356708,
          29.756967397707825,
          34.945409041010016,
          37.71840771827386,
          33.91743011012686,
          33.18540767995487,
          30.69112682779479,
          32.60182703199714,
          32.62796273381785,
          31.90474442486329,
          40.015158591247086,
          37.23310734759323,
          35.84581749059535,
          43.46462964905336,
          38.55925565923757,
          33.880037522316336,
          31.078001702949308,
          38.0581842964524,
          47.22793229235543,
          32.842316984061576,
          38.01857641663524,
          32.655651998486626,
          41.99646505053144,
          37.1198357962084,
          34.45731216982409,
          38.54010298918272,
          37.61209352256426,
          33.87292023355865,
          44.58098747717285,
          47.09175855184464,
          52.85914566419412,
          42.523806607645255,
          33.57625683288028,
          31.538619685802527,
          28.946381969376688,
          47.0075590451896,
          44.84956608335512,
          32.466222916888825,
          37.38570394797779
         ],
         "y0": " ",
         "yaxis": "y"
        },
        {
         "alignmentgroup": "True",
         "hovertemplate": "cluster=Intermediario<br>Salary=%{y}<extra></extra>",
         "legendgroup": "Intermediario",
         "marker": {
          "color": "#00cc96"
         },
         "name": "Intermediario",
         "notched": false,
         "offsetgroup": "Intermediario",
         "orientation": "v",
         "showlegend": true,
         "type": "box",
         "x0": " ",
         "xaxis": "x",
         "y": [
          29.10564412626415,
          26.60999946483826,
          26.922870208080727,
          22.13167952978297,
          28.44371364871443,
          25.83807528533155,
          28.45540733352181,
          28.11076599089921,
          25.777176662202244,
          30.08146508960951,
          29.92156792589912,
          24.128848522155916,
          27.99144009321824,
          27.25560194451641,
          28.95504466469472,
          31.17806285635236,
          17.836198078495173,
          25.567212253639493,
          31.487495135227046,
          30.975465934016583,
          26.8320406679501,
          26.549101695436303,
          27.61008627553768,
          30.75027035374813,
          28.116477113988843,
          29.658186570335268,
          24.93425873480869,
          29.45001095390228,
          24.648750148674395,
          24.35874645168085,
          23.096871921677167,
          22.62000304740146,
          26.04333166434784,
          21.448288795172022,
          28.51210408110101,
          29.889199073550905,
          21.742828290885083,
          19.32875795789301,
          31.3538678006743,
          22.983583398895057,
          21.23113605109886,
          29.378484517416798,
          15.999828333094294,
          18.856517897650864,
          20.490879546654803,
          27.32308771736681,
          30.746317738266157,
          21.04163596192851,
          25.718711168720468,
          31.105445410963007,
          29.998486935883825,
          25.59144378791352,
          25.603045151393967,
          24.574512439353462,
          27.05696749920051,
          23.401717881369184,
          28.445376709666625,
          34.42690132836544,
          20.11548744055985,
          26.10030979619102,
          30.123784514239738,
          20.76729236790357,
          25.13092786065339,
          23.03918556603349,
          37.137572778481314,
          20.3449543779907,
          25.33445199423949,
          26.599373827922147,
          25.288130298930888,
          25.34898174182764,
          32.50179708579269,
          27.541037613294943,
          22.613373033168877,
          36.13363224066256,
          24.324334130300237,
          27.619552154007607,
          22.28081205912673,
          28.826175503874254,
          24.364535663210727,
          21.058749261022992,
          28.26423894986986,
          30.00187789665391,
          24.2848977621023,
          26.56989701538955,
          22.465116905506072,
          24.13476113812557,
          31.25988679090134,
          28.197353262901025,
          25.473518571781234,
          29.90301566796133,
          24.339476287186297,
          25.32318858146258,
          28.34933112003717,
          32.73699831055363,
          30.27357281033357,
          32.67293142783152,
          23.810729767215665,
          24.90535181363041,
          32.23520161362671,
          26.75308522604177,
          23.70041035285972,
          28.346070204485205,
          31.490077147152284,
          29.935848035085968,
          21.94164077128801,
          27.837350757896576,
          24.515070577140825,
          23.29034488258487
         ],
         "y0": " ",
         "yaxis": "y"
        }
       ],
       "layout": {
        "boxmode": "group",
        "legend": {
         "title": {
          "text": "cluster"
         },
         "tracegroupgap": 0
        },
        "margin": {
         "t": 60
        },
        "template": {
         "data": {
          "bar": [
           {
            "error_x": {
             "color": "#2a3f5f"
            },
            "error_y": {
             "color": "#2a3f5f"
            },
            "marker": {
             "line": {
              "color": "white",
              "width": 0.5
             },
             "pattern": {
              "fillmode": "overlay",
              "size": 10,
              "solidity": 0.2
             }
            },
            "type": "bar"
           }
          ],
          "barpolar": [
           {
            "marker": {
             "line": {
              "color": "white",
              "width": 0.5
             },
             "pattern": {
              "fillmode": "overlay",
              "size": 10,
              "solidity": 0.2
             }
            },
            "type": "barpolar"
           }
          ],
          "carpet": [
           {
            "aaxis": {
             "endlinecolor": "#2a3f5f",
             "gridcolor": "#C8D4E3",
             "linecolor": "#C8D4E3",
             "minorgridcolor": "#C8D4E3",
             "startlinecolor": "#2a3f5f"
            },
            "baxis": {
             "endlinecolor": "#2a3f5f",
             "gridcolor": "#C8D4E3",
             "linecolor": "#C8D4E3",
             "minorgridcolor": "#C8D4E3",
             "startlinecolor": "#2a3f5f"
            },
            "type": "carpet"
           }
          ],
          "choropleth": [
           {
            "colorbar": {
             "outlinewidth": 0,
             "ticks": ""
            },
            "type": "choropleth"
           }
          ],
          "contour": [
           {
            "colorbar": {
             "outlinewidth": 0,
             "ticks": ""
            },
            "colorscale": [
             [
              0,
              "#0d0887"
             ],
             [
              0.1111111111111111,
              "#46039f"
             ],
             [
              0.2222222222222222,
              "#7201a8"
             ],
             [
              0.3333333333333333,
              "#9c179e"
             ],
             [
              0.4444444444444444,
              "#bd3786"
             ],
             [
              0.5555555555555556,
              "#d8576b"
             ],
             [
              0.6666666666666666,
              "#ed7953"
             ],
             [
              0.7777777777777778,
              "#fb9f3a"
             ],
             [
              0.8888888888888888,
              "#fdca26"
             ],
             [
              1,
              "#f0f921"
             ]
            ],
            "type": "contour"
           }
          ],
          "contourcarpet": [
           {
            "colorbar": {
             "outlinewidth": 0,
             "ticks": ""
            },
            "type": "contourcarpet"
           }
          ],
          "heatmap": [
           {
            "colorbar": {
             "outlinewidth": 0,
             "ticks": ""
            },
            "colorscale": [
             [
              0,
              "#0d0887"
             ],
             [
              0.1111111111111111,
              "#46039f"
             ],
             [
              0.2222222222222222,
              "#7201a8"
             ],
             [
              0.3333333333333333,
              "#9c179e"
             ],
             [
              0.4444444444444444,
              "#bd3786"
             ],
             [
              0.5555555555555556,
              "#d8576b"
             ],
             [
              0.6666666666666666,
              "#ed7953"
             ],
             [
              0.7777777777777778,
              "#fb9f3a"
             ],
             [
              0.8888888888888888,
              "#fdca26"
             ],
             [
              1,
              "#f0f921"
             ]
            ],
            "type": "heatmap"
           }
          ],
          "heatmapgl": [
           {
            "colorbar": {
             "outlinewidth": 0,
             "ticks": ""
            },
            "colorscale": [
             [
              0,
              "#0d0887"
             ],
             [
              0.1111111111111111,
              "#46039f"
             ],
             [
              0.2222222222222222,
              "#7201a8"
             ],
             [
              0.3333333333333333,
              "#9c179e"
             ],
             [
              0.4444444444444444,
              "#bd3786"
             ],
             [
              0.5555555555555556,
              "#d8576b"
             ],
             [
              0.6666666666666666,
              "#ed7953"
             ],
             [
              0.7777777777777778,
              "#fb9f3a"
             ],
             [
              0.8888888888888888,
              "#fdca26"
             ],
             [
              1,
              "#f0f921"
             ]
            ],
            "type": "heatmapgl"
           }
          ],
          "histogram": [
           {
            "marker": {
             "pattern": {
              "fillmode": "overlay",
              "size": 10,
              "solidity": 0.2
             }
            },
            "type": "histogram"
           }
          ],
          "histogram2d": [
           {
            "colorbar": {
             "outlinewidth": 0,
             "ticks": ""
            },
            "colorscale": [
             [
              0,
              "#0d0887"
             ],
             [
              0.1111111111111111,
              "#46039f"
             ],
             [
              0.2222222222222222,
              "#7201a8"
             ],
             [
              0.3333333333333333,
              "#9c179e"
             ],
             [
              0.4444444444444444,
              "#bd3786"
             ],
             [
              0.5555555555555556,
              "#d8576b"
             ],
             [
              0.6666666666666666,
              "#ed7953"
             ],
             [
              0.7777777777777778,
              "#fb9f3a"
             ],
             [
              0.8888888888888888,
              "#fdca26"
             ],
             [
              1,
              "#f0f921"
             ]
            ],
            "type": "histogram2d"
           }
          ],
          "histogram2dcontour": [
           {
            "colorbar": {
             "outlinewidth": 0,
             "ticks": ""
            },
            "colorscale": [
             [
              0,
              "#0d0887"
             ],
             [
              0.1111111111111111,
              "#46039f"
             ],
             [
              0.2222222222222222,
              "#7201a8"
             ],
             [
              0.3333333333333333,
              "#9c179e"
             ],
             [
              0.4444444444444444,
              "#bd3786"
             ],
             [
              0.5555555555555556,
              "#d8576b"
             ],
             [
              0.6666666666666666,
              "#ed7953"
             ],
             [
              0.7777777777777778,
              "#fb9f3a"
             ],
             [
              0.8888888888888888,
              "#fdca26"
             ],
             [
              1,
              "#f0f921"
             ]
            ],
            "type": "histogram2dcontour"
           }
          ],
          "mesh3d": [
           {
            "colorbar": {
             "outlinewidth": 0,
             "ticks": ""
            },
            "type": "mesh3d"
           }
          ],
          "parcoords": [
           {
            "line": {
             "colorbar": {
              "outlinewidth": 0,
              "ticks": ""
             }
            },
            "type": "parcoords"
           }
          ],
          "pie": [
           {
            "automargin": true,
            "type": "pie"
           }
          ],
          "scatter": [
           {
            "fillpattern": {
             "fillmode": "overlay",
             "size": 10,
             "solidity": 0.2
            },
            "type": "scatter"
           }
          ],
          "scatter3d": [
           {
            "line": {
             "colorbar": {
              "outlinewidth": 0,
              "ticks": ""
             }
            },
            "marker": {
             "colorbar": {
              "outlinewidth": 0,
              "ticks": ""
             }
            },
            "type": "scatter3d"
           }
          ],
          "scattercarpet": [
           {
            "marker": {
             "colorbar": {
              "outlinewidth": 0,
              "ticks": ""
             }
            },
            "type": "scattercarpet"
           }
          ],
          "scattergeo": [
           {
            "marker": {
             "colorbar": {
              "outlinewidth": 0,
              "ticks": ""
             }
            },
            "type": "scattergeo"
           }
          ],
          "scattergl": [
           {
            "marker": {
             "colorbar": {
              "outlinewidth": 0,
              "ticks": ""
             }
            },
            "type": "scattergl"
           }
          ],
          "scattermapbox": [
           {
            "marker": {
             "colorbar": {
              "outlinewidth": 0,
              "ticks": ""
             }
            },
            "type": "scattermapbox"
           }
          ],
          "scatterpolar": [
           {
            "marker": {
             "colorbar": {
              "outlinewidth": 0,
              "ticks": ""
             }
            },
            "type": "scatterpolar"
           }
          ],
          "scatterpolargl": [
           {
            "marker": {
             "colorbar": {
              "outlinewidth": 0,
              "ticks": ""
             }
            },
            "type": "scatterpolargl"
           }
          ],
          "scatterternary": [
           {
            "marker": {
             "colorbar": {
              "outlinewidth": 0,
              "ticks": ""
             }
            },
            "type": "scatterternary"
           }
          ],
          "surface": [
           {
            "colorbar": {
             "outlinewidth": 0,
             "ticks": ""
            },
            "colorscale": [
             [
              0,
              "#0d0887"
             ],
             [
              0.1111111111111111,
              "#46039f"
             ],
             [
              0.2222222222222222,
              "#7201a8"
             ],
             [
              0.3333333333333333,
              "#9c179e"
             ],
             [
              0.4444444444444444,
              "#bd3786"
             ],
             [
              0.5555555555555556,
              "#d8576b"
             ],
             [
              0.6666666666666666,
              "#ed7953"
             ],
             [
              0.7777777777777778,
              "#fb9f3a"
             ],
             [
              0.8888888888888888,
              "#fdca26"
             ],
             [
              1,
              "#f0f921"
             ]
            ],
            "type": "surface"
           }
          ],
          "table": [
           {
            "cells": {
             "fill": {
              "color": "#EBF0F8"
             },
             "line": {
              "color": "white"
             }
            },
            "header": {
             "fill": {
              "color": "#C8D4E3"
             },
             "line": {
              "color": "white"
             }
            },
            "type": "table"
           }
          ]
         },
         "layout": {
          "annotationdefaults": {
           "arrowcolor": "#2a3f5f",
           "arrowhead": 0,
           "arrowwidth": 1
          },
          "autotypenumbers": "strict",
          "coloraxis": {
           "colorbar": {
            "outlinewidth": 0,
            "ticks": ""
           }
          },
          "colorscale": {
           "diverging": [
            [
             0,
             "#8e0152"
            ],
            [
             0.1,
             "#c51b7d"
            ],
            [
             0.2,
             "#de77ae"
            ],
            [
             0.3,
             "#f1b6da"
            ],
            [
             0.4,
             "#fde0ef"
            ],
            [
             0.5,
             "#f7f7f7"
            ],
            [
             0.6,
             "#e6f5d0"
            ],
            [
             0.7,
             "#b8e186"
            ],
            [
             0.8,
             "#7fbc41"
            ],
            [
             0.9,
             "#4d9221"
            ],
            [
             1,
             "#276419"
            ]
           ],
           "sequential": [
            [
             0,
             "#0d0887"
            ],
            [
             0.1111111111111111,
             "#46039f"
            ],
            [
             0.2222222222222222,
             "#7201a8"
            ],
            [
             0.3333333333333333,
             "#9c179e"
            ],
            [
             0.4444444444444444,
             "#bd3786"
            ],
            [
             0.5555555555555556,
             "#d8576b"
            ],
            [
             0.6666666666666666,
             "#ed7953"
            ],
            [
             0.7777777777777778,
             "#fb9f3a"
            ],
            [
             0.8888888888888888,
             "#fdca26"
            ],
            [
             1,
             "#f0f921"
            ]
           ],
           "sequentialminus": [
            [
             0,
             "#0d0887"
            ],
            [
             0.1111111111111111,
             "#46039f"
            ],
            [
             0.2222222222222222,
             "#7201a8"
            ],
            [
             0.3333333333333333,
             "#9c179e"
            ],
            [
             0.4444444444444444,
             "#bd3786"
            ],
            [
             0.5555555555555556,
             "#d8576b"
            ],
            [
             0.6666666666666666,
             "#ed7953"
            ],
            [
             0.7777777777777778,
             "#fb9f3a"
            ],
            [
             0.8888888888888888,
             "#fdca26"
            ],
            [
             1,
             "#f0f921"
            ]
           ]
          },
          "colorway": [
           "#636efa",
           "#EF553B",
           "#00cc96",
           "#ab63fa",
           "#FFA15A",
           "#19d3f3",
           "#FF6692",
           "#B6E880",
           "#FF97FF",
           "#FECB52"
          ],
          "font": {
           "color": "#2a3f5f"
          },
          "geo": {
           "bgcolor": "white",
           "lakecolor": "white",
           "landcolor": "white",
           "showlakes": true,
           "showland": true,
           "subunitcolor": "#C8D4E3"
          },
          "hoverlabel": {
           "align": "left"
          },
          "hovermode": "closest",
          "mapbox": {
           "style": "light"
          },
          "paper_bgcolor": "white",
          "plot_bgcolor": "white",
          "polar": {
           "angularaxis": {
            "gridcolor": "#EBF0F8",
            "linecolor": "#EBF0F8",
            "ticks": ""
           },
           "bgcolor": "white",
           "radialaxis": {
            "gridcolor": "#EBF0F8",
            "linecolor": "#EBF0F8",
            "ticks": ""
           }
          },
          "scene": {
           "xaxis": {
            "backgroundcolor": "white",
            "gridcolor": "#DFE8F3",
            "gridwidth": 2,
            "linecolor": "#EBF0F8",
            "showbackground": true,
            "ticks": "",
            "zerolinecolor": "#EBF0F8"
           },
           "yaxis": {
            "backgroundcolor": "white",
            "gridcolor": "#DFE8F3",
            "gridwidth": 2,
            "linecolor": "#EBF0F8",
            "showbackground": true,
            "ticks": "",
            "zerolinecolor": "#EBF0F8"
           },
           "zaxis": {
            "backgroundcolor": "white",
            "gridcolor": "#DFE8F3",
            "gridwidth": 2,
            "linecolor": "#EBF0F8",
            "showbackground": true,
            "ticks": "",
            "zerolinecolor": "#EBF0F8"
           }
          },
          "shapedefaults": {
           "line": {
            "color": "#2a3f5f"
           }
          },
          "ternary": {
           "aaxis": {
            "gridcolor": "#DFE8F3",
            "linecolor": "#A2B1C6",
            "ticks": ""
           },
           "baxis": {
            "gridcolor": "#DFE8F3",
            "linecolor": "#A2B1C6",
            "ticks": ""
           },
           "bgcolor": "white",
           "caxis": {
            "gridcolor": "#DFE8F3",
            "linecolor": "#A2B1C6",
            "ticks": ""
           }
          },
          "title": {
           "x": 0.05
          },
          "xaxis": {
           "automargin": true,
           "gridcolor": "#EBF0F8",
           "linecolor": "#EBF0F8",
           "ticks": "",
           "title": {
            "standoff": 15
           },
           "zerolinecolor": "#EBF0F8",
           "zerolinewidth": 2
          },
          "yaxis": {
           "automargin": true,
           "gridcolor": "#EBF0F8",
           "linecolor": "#EBF0F8",
           "ticks": "",
           "title": {
            "standoff": 15
           },
           "zerolinecolor": "#EBF0F8",
           "zerolinewidth": 2
          }
         }
        },
        "title": {
         "text": "Salário feminino"
        },
        "xaxis": {
         "anchor": "y",
         "domain": [
          0,
          1
         ],
         "title": {
          "text": "Cluster"
         }
        },
        "yaxis": {
         "anchor": "x",
         "domain": [
          0,
          1
         ],
         "title": {
          "text": "Salário"
         }
        }
       }
      }
     },
     "metadata": {},
     "output_type": "display_data"
    }
   ],
   "source": [
    "grafico_fem = px.box(df_fem_total,\n",
    "                     y=\"Salary\",\n",
    "                     color=df_fem_total[\"cluster\"]\n",
    "                     )\n",
    "\n",
    "fig = go.Figure(grafico_fem)\n",
    "fig.update_layout(title=\"Salário feminino\",\n",
    "                  xaxis_title=\"Cluster\",\n",
    "                  yaxis_title=\"Salário\",\n",
    "                  template=\"plotly_white\")"
   ]
  },
  {
   "cell_type": "code",
   "execution_count": 45,
   "metadata": {},
   "outputs": [
    {
     "data": {
      "text/plain": [
       "id_cliente      108\n",
       "idade           108\n",
       "peso            108\n",
       "colesterol      108\n",
       "genero          108\n",
       "id_estado       108\n",
       "estado          108\n",
       "sigla_estado    108\n",
       "pais            108\n",
       "Exp             108\n",
       "Salary          108\n",
       "cluster         108\n",
       "dtype: int64"
      ]
     },
     "execution_count": 45,
     "metadata": {},
     "output_type": "execute_result"
    }
   ],
   "source": [
    "df_fem_total.query(\"cluster == 'Intermediario'\").count()"
   ]
  },
  {
   "cell_type": "code",
   "execution_count": 32,
   "metadata": {},
   "outputs": [
    {
     "data": {
      "text/html": [
       "<div>\n",
       "<style scoped>\n",
       "    .dataframe tbody tr th:only-of-type {\n",
       "        vertical-align: middle;\n",
       "    }\n",
       "\n",
       "    .dataframe tbody tr th {\n",
       "        vertical-align: top;\n",
       "    }\n",
       "\n",
       "    .dataframe thead th {\n",
       "        text-align: right;\n",
       "    }\n",
       "</style>\n",
       "<table border=\"1\" class=\"dataframe\">\n",
       "  <thead>\n",
       "    <tr style=\"text-align: right;\">\n",
       "      <th></th>\n",
       "      <th>count</th>\n",
       "      <th>unique</th>\n",
       "      <th>top</th>\n",
       "      <th>freq</th>\n",
       "    </tr>\n",
       "    <tr>\n",
       "      <th>cluster</th>\n",
       "      <th></th>\n",
       "      <th></th>\n",
       "      <th></th>\n",
       "      <th></th>\n",
       "    </tr>\n",
       "  </thead>\n",
       "  <tbody>\n",
       "    <tr>\n",
       "      <th>Avancado</th>\n",
       "      <td>152</td>\n",
       "      <td>27</td>\n",
       "      <td>Ceará</td>\n",
       "      <td>12</td>\n",
       "    </tr>\n",
       "    <tr>\n",
       "      <th>Iniciante</th>\n",
       "      <td>147</td>\n",
       "      <td>27</td>\n",
       "      <td>Rio de Janeiro</td>\n",
       "      <td>10</td>\n",
       "    </tr>\n",
       "    <tr>\n",
       "      <th>Intermediario</th>\n",
       "      <td>248</td>\n",
       "      <td>27</td>\n",
       "      <td>Distrito Federal</td>\n",
       "      <td>14</td>\n",
       "    </tr>\n",
       "  </tbody>\n",
       "</table>\n",
       "</div>"
      ],
      "text/plain": [
       "              count unique               top freq\n",
       "cluster                                          \n",
       "Avancado        152     27             Ceará   12\n",
       "Iniciante       147     27    Rio de Janeiro   10\n",
       "Intermediario   248     27  Distrito Federal   14"
      ]
     },
     "execution_count": 32,
     "metadata": {},
     "output_type": "execute_result"
    }
   ],
   "source": [
    "df_merge.groupby(\"cluster\")[\"estado\"].describe()"
   ]
  },
  {
   "cell_type": "code",
   "execution_count": 67,
   "metadata": {},
   "outputs": [
    {
     "data": {
      "text/plain": [
       "estado\n",
       "Goiás                  154.086957\n",
       "Acre                   162.500000\n",
       "Rio Grande do Norte    163.208333\n",
       "Bahia                  164.444444\n",
       "Roraima                164.777778\n",
       "Amazonas               164.880000\n",
       "Maranhão               164.954545\n",
       "Rio de Janeiro         165.304348\n",
       "Paraná                 165.888889\n",
       "Piauí                  166.173913\n",
       "Mato Grosso do Sul     167.818182\n",
       "Minas Gerais           168.518519\n",
       "Amapá                  169.761905\n",
       "Paraíba                169.875000\n",
       "Sergipe                170.473684\n",
       "Rondônia               170.900000\n",
       "Ceará                  171.400000\n",
       "Santa Catarina         172.727273\n",
       "Tocantins              174.263158\n",
       "Alagoas                174.666667\n",
       "Distrito Federal       175.954545\n",
       "São Paulo              176.666667\n",
       "Pará                   178.952381\n",
       "Espírito Santo         179.111111\n",
       "Pernambuco             180.176471\n",
       "Rio Grande do Sul      185.380952\n",
       "Mato Grosso            186.333333\n",
       "Name: mean, dtype: float64"
      ]
     },
     "execution_count": 67,
     "metadata": {},
     "output_type": "execute_result"
    }
   ],
   "source": [
    "df_merge.groupby(\"estado\")[\"colesterol\"].describe()[\"mean\"].sort_values()"
   ]
  },
  {
   "cell_type": "code",
   "execution_count": 72,
   "metadata": {},
   "outputs": [
    {
     "data": {
      "text/plain": [
       "array([[<Axes: title={'center': 'peso'}>]], dtype=object)"
      ]
     },
     "execution_count": 72,
     "metadata": {},
     "output_type": "execute_result"
    },
    {
     "data": {
      "image/png": "[encoded data removed]",
      "text/plain": [
       "<Figure size 1500x700 with 1 Axes>"
      ]
     },
     "metadata": {},
     "output_type": "display_data"
    }
   ],
   "source": [
    "df_fem_total.loc[df_fem_total[\"cluster\"] == \"Iniciante\"].hist(column='peso',figsize=(15,7),bins=15)"
   ]
  },
  {
   "cell_type": "code",
   "execution_count": null,
   "metadata": {},
   "outputs": [],
   "source": []
  }
 ],
 "metadata": {
  "kernelspec": {
   "display_name": "Python 3",
   "language": "python",
   "name": "python3"
  },
  "language_info": {
   "codemirror_mode": {
    "name": "ipython",
    "version": 3
   },
   "file_extension": ".py",
   "mimetype": "text/x-python",
   "name": "python",
   "nbconvert_exporter": "python",
   "pygments_lexer": "ipython3",
   "version": "3.11.5"
  }
 },
 "nbformat": 4,
 "nbformat_minor": 2
}
